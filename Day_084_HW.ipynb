{
 "cells": [
  {
   "cell_type": "markdown",
   "metadata": {},
   "source": [
    "## Work\n",
    "### 請結合前面的知識與程式碼，比較不同的 regularization 的組合對訓練的結果與影響：如 dropout, regularizers, batch-normalization 等"
   ]
  },
  {
   "cell_type": "code",
   "execution_count": 1,
   "metadata": {},
   "outputs": [
    {
     "name": "stderr",
     "output_type": "stream",
     "text": [
      "Using TensorFlow backend.\n"
     ]
    }
   ],
   "source": [
    "import os\n",
    "import keras\n",
    "import itertools\n",
    "# Disable GPU\n",
    "os.environ[\"CUDA_VISIBLE_DEVICES\"] = \"0\""
   ]
  },
  {
   "cell_type": "code",
   "execution_count": 2,
   "metadata": {},
   "outputs": [],
   "source": [
    "train, test = keras.datasets.cifar10.load_data()"
   ]
  },
  {
   "cell_type": "code",
   "execution_count": 3,
   "metadata": {},
   "outputs": [],
   "source": [
    "## 資料前處理\n",
    "def preproc_x(x, flatten=True):\n",
    "    x = x / 255.\n",
    "    if flatten:\n",
    "        x = x.reshape((len(x), -1))\n",
    "    return x\n",
    "\n",
    "def preproc_y(y, num_classes=10):\n",
    "    if y.shape[-1] == 1:\n",
    "        y = keras.utils.to_categorical(y, num_classes)\n",
    "    return y    "
   ]
  },
  {
   "cell_type": "code",
   "execution_count": 4,
   "metadata": {},
   "outputs": [],
   "source": [
    "x_train, y_train = train\n",
    "x_test, y_test = test\n",
    "\n",
    "# Preproc the inputs\n",
    "x_train = preproc_x(x_train)\n",
    "x_test = preproc_x(x_test)\n",
    "\n",
    "# Preprc the outputs\n",
    "y_train = preproc_y(y_train)\n",
    "y_test = preproc_y(y_test)"
   ]
  },
  {
   "cell_type": "code",
   "execution_count": 6,
   "metadata": {},
   "outputs": [],
   "source": [
    "from keras.layers import BatchNormalization\n",
    "from keras.layers import Dropout\n",
    "from keras.regularizers import l1, l2, l1_l2\n",
    "\"\"\"\n",
    "建立神經網路，並加入 BN layer\n",
    "\"\"\"\n",
    "def build_mlp(input_shape, output_units=10, num_neurons=[512, 256, 128], l2_ratio=1e-4):\n",
    "    input_layer = keras.layers.Input(input_shape)\n",
    "    \n",
    "    for i, n_units in enumerate(num_neurons):\n",
    "        if i == 0:\n",
    "            x = keras.layers.Dense(units=n_units, \n",
    "                                   activation=\"relu\", \n",
    "                                   name=\"hidden_layer\"+str(i+1))(input_layer)\n",
    "            x = BatchNormalization()(x)\n",
    "        else:\n",
    "            x = keras.layers.Dense(units=n_units, \n",
    "                                   activation=\"relu\", \n",
    "                                   name=\"hidden_layer\"+str(i+1))(x)\n",
    "            x = BatchNormalization()(x)\n",
    "    \n",
    "    out = keras.layers.Dense(units=output_units, activation=\"softmax\", name=\"output\")(x)\n",
    "    \n",
    "    model = keras.models.Model(inputs=[input_layer], outputs=[out])\n",
    "    return model"
   ]
  },
  {
   "cell_type": "markdown",
   "metadata": {},
   "source": [
    "### Regularization"
   ]
  },
  {
   "cell_type": "code",
   "execution_count": 7,
   "metadata": {},
   "outputs": [],
   "source": [
    "## 超參數設定\n",
    "LEARNING_RATE = 1e-3\n",
    "EPOCHS = 50\n",
    "BATCH_SIZE = 256\n",
    "MOMENTUM = 0.95\n",
    "L2_EXP = [1e-2, 1e-4, 1e-8, 1e-12]"
   ]
  },
  {
   "cell_type": "code",
   "execution_count": 8,
   "metadata": {
    "scrolled": true
   },
   "outputs": [
    {
     "name": "stderr",
     "output_type": "stream",
     "text": [
      "WARNING: Logging before flag parsing goes to stderr.\n",
      "W0718 20:31:53.746367  7920 deprecation_wrapper.py:119] From C:\\ProgramData\\Anaconda3\\lib\\site-packages\\keras\\backend\\tensorflow_backend.py:74: The name tf.get_default_graph is deprecated. Please use tf.compat.v1.get_default_graph instead.\n",
      "\n",
      "W0718 20:31:53.762368  7920 deprecation_wrapper.py:119] From C:\\ProgramData\\Anaconda3\\lib\\site-packages\\keras\\backend\\tensorflow_backend.py:517: The name tf.placeholder is deprecated. Please use tf.compat.v1.placeholder instead.\n",
      "\n",
      "W0718 20:31:53.765369  7920 deprecation_wrapper.py:119] From C:\\ProgramData\\Anaconda3\\lib\\site-packages\\keras\\backend\\tensorflow_backend.py:4138: The name tf.random_uniform is deprecated. Please use tf.random.uniform instead.\n",
      "\n",
      "W0718 20:31:53.854374  7920 deprecation_wrapper.py:119] From C:\\ProgramData\\Anaconda3\\lib\\site-packages\\keras\\backend\\tensorflow_backend.py:133: The name tf.placeholder_with_default is deprecated. Please use tf.compat.v1.placeholder_with_default instead.\n",
      "\n",
      "W0718 20:31:54.181392  7920 deprecation_wrapper.py:119] From C:\\ProgramData\\Anaconda3\\lib\\site-packages\\keras\\optimizers.py:790: The name tf.train.Optimizer is deprecated. Please use tf.compat.v1.train.Optimizer instead.\n",
      "\n",
      "W0718 20:31:54.189393  7920 deprecation_wrapper.py:119] From C:\\ProgramData\\Anaconda3\\lib\\site-packages\\keras\\backend\\tensorflow_backend.py:3295: The name tf.log is deprecated. Please use tf.math.log instead.\n",
      "\n",
      "W0718 20:31:54.312400  7920 deprecation.py:323] From C:\\ProgramData\\Anaconda3\\lib\\site-packages\\tensorflow\\python\\ops\\math_grad.py:1250: add_dispatch_support.<locals>.wrapper (from tensorflow.python.ops.array_ops) is deprecated and will be removed in a future version.\n",
      "Instructions for updating:\n",
      "Use tf.where in 2.0, which has the same broadcast rule as np.where\n"
     ]
    },
    {
     "name": "stdout",
     "output_type": "stream",
     "text": [
      "_________________________________________________________________\n",
      "Layer (type)                 Output Shape              Param #   \n",
      "=================================================================\n",
      "input_1 (InputLayer)         (None, 3072)              0         \n",
      "_________________________________________________________________\n",
      "hidden_layer1 (Dense)        (None, 512)               1573376   \n",
      "_________________________________________________________________\n",
      "batch_normalization_1 (Batch (None, 512)               2048      \n",
      "_________________________________________________________________\n",
      "hidden_layer2 (Dense)        (None, 256)               131328    \n",
      "_________________________________________________________________\n",
      "batch_normalization_2 (Batch (None, 256)               1024      \n",
      "_________________________________________________________________\n",
      "hidden_layer3 (Dense)        (None, 128)               32896     \n",
      "_________________________________________________________________\n",
      "batch_normalization_3 (Batch (None, 128)               512       \n",
      "_________________________________________________________________\n",
      "output (Dense)               (None, 10)                1290      \n",
      "=================================================================\n",
      "Total params: 1,742,474\n",
      "Trainable params: 1,740,682\n",
      "Non-trainable params: 1,792\n",
      "_________________________________________________________________\n",
      "Train on 50000 samples, validate on 10000 samples\n",
      "Epoch 1/50\n",
      "50000/50000 [==============================] - 8s 166us/step - loss: 1.8588 - acc: 0.3610 - val_loss: 1.7573 - val_acc: 0.3810\n",
      "Epoch 2/50\n",
      "50000/50000 [==============================] - 8s 151us/step - loss: 1.5445 - acc: 0.4576 - val_loss: 1.6026 - val_acc: 0.4338\n",
      "Epoch 3/50\n",
      "50000/50000 [==============================] - 8s 157us/step - loss: 1.4428 - acc: 0.4937 - val_loss: 1.5558 - val_acc: 0.4507\n",
      "Epoch 4/50\n",
      "50000/50000 [==============================] - 8s 159us/step - loss: 1.3699 - acc: 0.5193 - val_loss: 1.5306 - val_acc: 0.4561\n",
      "Epoch 5/50\n",
      "50000/50000 [==============================] - 8s 158us/step - loss: 1.3128 - acc: 0.5375 - val_loss: 1.5071 - val_acc: 0.4673\n",
      "Epoch 6/50\n",
      "50000/50000 [==============================] - 8s 154us/step - loss: 1.2591 - acc: 0.5579 - val_loss: 1.5123 - val_acc: 0.4743\n",
      "Epoch 7/50\n",
      "50000/50000 [==============================] - 8s 150us/step - loss: 1.2089 - acc: 0.5768 - val_loss: 1.4952 - val_acc: 0.4794\n",
      "Epoch 8/50\n",
      "50000/50000 [==============================] - 8s 152us/step - loss: 1.1670 - acc: 0.5916 - val_loss: 1.4524 - val_acc: 0.4855\n",
      "Epoch 9/50\n",
      "50000/50000 [==============================] - 8s 160us/step - loss: 1.1261 - acc: 0.6081 - val_loss: 1.4825 - val_acc: 0.4812\n",
      "Epoch 10/50\n",
      "50000/50000 [==============================] - 8s 169us/step - loss: 1.0845 - acc: 0.6217 - val_loss: 1.5059 - val_acc: 0.4734\n",
      "Epoch 11/50\n",
      "50000/50000 [==============================] - 8s 162us/step - loss: 1.0519 - acc: 0.6357 - val_loss: 1.4900 - val_acc: 0.4869\n",
      "Epoch 12/50\n",
      "50000/50000 [==============================] - 8s 158us/step - loss: 1.0169 - acc: 0.6496 - val_loss: 1.5705 - val_acc: 0.4699\n",
      "Epoch 13/50\n",
      "50000/50000 [==============================] - 8s 166us/step - loss: 0.9768 - acc: 0.6615 - val_loss: 1.4844 - val_acc: 0.4890\n",
      "Epoch 14/50\n",
      "50000/50000 [==============================] - 8s 153us/step - loss: 0.9511 - acc: 0.6711 - val_loss: 1.5300 - val_acc: 0.4783\n",
      "Epoch 15/50\n",
      "50000/50000 [==============================] - 8s 166us/step - loss: 0.9118 - acc: 0.6853 - val_loss: 1.5298 - val_acc: 0.4850\n",
      "Epoch 16/50\n",
      "50000/50000 [==============================] - 8s 151us/step - loss: 0.8774 - acc: 0.6969 - val_loss: 1.5578 - val_acc: 0.4782\n",
      "Epoch 17/50\n",
      "50000/50000 [==============================] - 7s 147us/step - loss: 0.8413 - acc: 0.7106 - val_loss: 1.5990 - val_acc: 0.4799\n",
      "Epoch 18/50\n",
      "50000/50000 [==============================] - 7s 146us/step - loss: 0.8138 - acc: 0.7190 - val_loss: 1.5510 - val_acc: 0.4908\n",
      "Epoch 19/50\n",
      "50000/50000 [==============================] - 8s 152us/step - loss: 0.7831 - acc: 0.7323 - val_loss: 1.6697 - val_acc: 0.4738\n",
      "Epoch 20/50\n",
      "50000/50000 [==============================] - 8s 155us/step - loss: 0.7563 - acc: 0.7434 - val_loss: 1.6211 - val_acc: 0.4766\n",
      "Epoch 21/50\n",
      "50000/50000 [==============================] - 8s 154us/step - loss: 0.7219 - acc: 0.7550 - val_loss: 1.6739 - val_acc: 0.4608\n",
      "Epoch 22/50\n",
      "50000/50000 [==============================] - 7s 149us/step - loss: 0.6904 - acc: 0.7669 - val_loss: 1.7518 - val_acc: 0.4752\n",
      "Epoch 23/50\n",
      "50000/50000 [==============================] - 7s 147us/step - loss: 0.6608 - acc: 0.7763 - val_loss: 1.7805 - val_acc: 0.4659\n",
      "Epoch 24/50\n",
      "50000/50000 [==============================] - 7s 148us/step - loss: 0.6357 - acc: 0.7876 - val_loss: 1.8406 - val_acc: 0.4569\n",
      "Epoch 25/50\n",
      "50000/50000 [==============================] - 8s 152us/step - loss: 0.6067 - acc: 0.7959 - val_loss: 1.8079 - val_acc: 0.4651\n",
      "Epoch 26/50\n",
      "50000/50000 [==============================] - 8s 160us/step - loss: 0.5828 - acc: 0.8070 - val_loss: 1.7910 - val_acc: 0.4759\n",
      "Epoch 27/50\n",
      "50000/50000 [==============================] - 8s 161us/step - loss: 0.5556 - acc: 0.8157 - val_loss: 1.7682 - val_acc: 0.4784\n",
      "Epoch 28/50\n",
      "50000/50000 [==============================] - 8s 155us/step - loss: 0.5271 - acc: 0.8267 - val_loss: 1.8082 - val_acc: 0.4814\n",
      "Epoch 29/50\n",
      "50000/50000 [==============================] - 8s 151us/step - loss: 0.5111 - acc: 0.8319 - val_loss: 1.8200 - val_acc: 0.4746\n",
      "Epoch 30/50\n",
      "50000/50000 [==============================] - 8s 153us/step - loss: 0.4846 - acc: 0.8420 - val_loss: 1.8585 - val_acc: 0.4706\n",
      "Epoch 31/50\n",
      "50000/50000 [==============================] - 8s 157us/step - loss: 0.4617 - acc: 0.8511 - val_loss: 1.9494 - val_acc: 0.4639\n",
      "Epoch 32/50\n",
      "50000/50000 [==============================] - 8s 152us/step - loss: 0.4455 - acc: 0.8556 - val_loss: 1.9427 - val_acc: 0.4727\n",
      "Epoch 33/50\n",
      "50000/50000 [==============================] - 8s 155us/step - loss: 0.4165 - acc: 0.8663 - val_loss: 2.0550 - val_acc: 0.4585\n",
      "Epoch 34/50\n",
      "50000/50000 [==============================] - 8s 150us/step - loss: 0.3972 - acc: 0.8741 - val_loss: 2.0322 - val_acc: 0.4709\n",
      "Epoch 35/50\n",
      "50000/50000 [==============================] - 8s 155us/step - loss: 0.3755 - acc: 0.8821 - val_loss: 2.0130 - val_acc: 0.4745\n",
      "Epoch 36/50\n",
      "50000/50000 [==============================] - 8s 154us/step - loss: 0.3621 - acc: 0.8852 - val_loss: 2.0108 - val_acc: 0.4837\n",
      "Epoch 37/50\n",
      "50000/50000 [==============================] - 7s 147us/step - loss: 0.3418 - acc: 0.8930 - val_loss: 2.1378 - val_acc: 0.4575\n",
      "Epoch 38/50\n",
      "50000/50000 [==============================] - 7s 149us/step - loss: 0.3268 - acc: 0.8986 - val_loss: 2.1296 - val_acc: 0.4635\n",
      "Epoch 39/50\n",
      "50000/50000 [==============================] - 8s 153us/step - loss: 0.3089 - acc: 0.9042 - val_loss: 2.2052 - val_acc: 0.4504\n",
      "Epoch 40/50\n",
      "50000/50000 [==============================] - 8s 153us/step - loss: 0.2957 - acc: 0.9099 - val_loss: 2.0962 - val_acc: 0.4711\n",
      "Epoch 41/50\n",
      "50000/50000 [==============================] - 8s 150us/step - loss: 0.2837 - acc: 0.9134 - val_loss: 2.2068 - val_acc: 0.4623\n",
      "Epoch 42/50\n",
      "50000/50000 [==============================] - 8s 152us/step - loss: 0.2637 - acc: 0.9213 - val_loss: 2.2518 - val_acc: 0.4745\n",
      "Epoch 43/50\n",
      "50000/50000 [==============================] - 8s 151us/step - loss: 0.2472 - acc: 0.9279 - val_loss: 2.3541 - val_acc: 0.4659\n",
      "Epoch 44/50\n",
      "50000/50000 [==============================] - 8s 150us/step - loss: 0.2407 - acc: 0.9283 - val_loss: 2.2515 - val_acc: 0.4734\n",
      "Epoch 45/50\n",
      "50000/50000 [==============================] - 7s 149us/step - loss: 0.2254 - acc: 0.9346 - val_loss: 2.3516 - val_acc: 0.4695\n",
      "Epoch 46/50\n",
      "50000/50000 [==============================] - 8s 159us/step - loss: 0.2059 - acc: 0.9415 - val_loss: 2.3555 - val_acc: 0.4701\n",
      "Epoch 47/50\n",
      "50000/50000 [==============================] - 8s 155us/step - loss: 0.1934 - acc: 0.9468 - val_loss: 2.3753 - val_acc: 0.4698\n",
      "Epoch 48/50\n",
      "50000/50000 [==============================] - 8s 158us/step - loss: 0.1916 - acc: 0.9472 - val_loss: 2.5108 - val_acc: 0.4645\n",
      "Epoch 49/50\n"
     ]
    },
    {
     "name": "stdout",
     "output_type": "stream",
     "text": [
      "50000/50000 [==============================] - 8s 154us/step - loss: 0.1847 - acc: 0.9474 - val_loss: 2.3638 - val_acc: 0.4784\n",
      "Epoch 50/50\n",
      "50000/50000 [==============================] - 8s 156us/step - loss: 0.1733 - acc: 0.9525 - val_loss: 2.4281 - val_acc: 0.4668\n"
     ]
    }
   ],
   "source": [
    "model = build_mlp(input_shape=x_train.shape[1:])\n",
    "model.summary()\n",
    "optimizer = keras.optimizers.SGD(lr=LEARNING_RATE, nesterov=True, momentum=MOMENTUM)\n",
    "model.compile(loss=\"categorical_crossentropy\", metrics=[\"accuracy\"], optimizer=optimizer)\n",
    "\n",
    "model.fit(x_train, y_train, \n",
    "          epochs=EPOCHS, \n",
    "          batch_size=BATCH_SIZE, \n",
    "          validation_data=(x_test, y_test), \n",
    "          shuffle=True)\n",
    "\n",
    "# Collect results\n",
    "train_loss = model.history.history[\"loss\"]\n",
    "valid_loss = model.history.history[\"val_loss\"]\n",
    "train_acc = model.history.history[\"acc\"]\n",
    "valid_acc = model.history.history[\"val_acc\"]"
   ]
  },
  {
   "cell_type": "code",
   "execution_count": 9,
   "metadata": {},
   "outputs": [
    {
     "data": {
      "image/png": "[encoded data removed]",
      "text/plain": [
       "<Figure size 432x288 with 1 Axes>"
      ]
     },
     "metadata": {
      "needs_background": "light"
     },
     "output_type": "display_data"
    },
    {
     "data": {
      "image/png": "[encoded data removed]",
      "text/plain": [
       "<Figure size 432x288 with 1 Axes>"
      ]
     },
     "metadata": {
      "needs_background": "light"
     },
     "output_type": "display_data"
    }
   ],
   "source": [
    "import matplotlib.pyplot as plt\n",
    "%matplotlib inline\n",
    "\n",
    "plt.plot(range(len(train_loss)), train_loss, label=\"train loss\")\n",
    "plt.plot(range(len(valid_loss)), valid_loss, label=\"valid loss\")\n",
    "plt.legend()\n",
    "plt.title(\"Loss\")\n",
    "plt.show()\n",
    "\n",
    "plt.plot(range(len(train_acc)), train_acc, label=\"train accuracy\")\n",
    "plt.plot(range(len(valid_acc)), valid_acc, label=\"valid accuracy\")\n",
    "plt.legend()\n",
    "plt.title(\"Accuracy\")\n",
    "plt.show()"
   ]
  },
  {
   "cell_type": "code",
   "execution_count": null,
   "metadata": {},
   "outputs": [],
   "source": []
  }
 ],
 "metadata": {
  "kernelspec": {
   "display_name": "Python 3",
   "language": "python",
   "name": "python3"
  },
  "language_info": {
   "codemirror_mode": {
    "name": "ipython",
    "version": 3
   },
   "file_extension": ".py",
   "mimetype": "text/x-python",
   "name": "python",
   "nbconvert_exporter": "python",
   "pygments_lexer": "ipython3",
   "version": "3.7.3"
  }
 },
 "nbformat": 4,
 "nbformat_minor": 2
}
