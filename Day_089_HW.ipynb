{
 "cells": [
  {
   "cell_type": "markdown",
   "metadata": {},
   "source": [
    "## Work\n",
    "1. 請自行定義一個 loss function, 為 0.3 * focal loss + 0.7 cross-entropy，訓練並比較結果\n"
   ]
  },
  {
   "cell_type": "code",
   "execution_count": 1,
   "metadata": {},
   "outputs": [
    {
     "name": "stderr",
     "output_type": "stream",
     "text": [
      "Using TensorFlow backend.\n"
     ]
    }
   ],
   "source": [
    "import os\n",
    "import keras\n",
    "\n",
    "# Disable GPU\n",
    "os.environ[\"CUDA_VISIBLE_DEVICES\"] = \"0\""
   ]
  },
  {
   "cell_type": "code",
   "execution_count": 2,
   "metadata": {},
   "outputs": [],
   "source": [
    "train, test = keras.datasets.cifar10.load_data()"
   ]
  },
  {
   "cell_type": "code",
   "execution_count": 3,
   "metadata": {},
   "outputs": [],
   "source": [
    "## 資料前處理\n",
    "def preproc_x(x, flatten=True):\n",
    "    x = x / 255.\n",
    "    if flatten:\n",
    "        x = x.reshape((len(x), -1))\n",
    "    return x\n",
    "\n",
    "def preproc_y(y, num_classes=10):\n",
    "    if y.shape[-1] == 1:\n",
    "        y = keras.utils.to_categorical(y, num_classes)\n",
    "    return y    "
   ]
  },
  {
   "cell_type": "code",
   "execution_count": 4,
   "metadata": {},
   "outputs": [],
   "source": [
    "x_train, y_train = train\n",
    "x_test, y_test = test\n",
    "\n",
    "# Preproc the inputs\n",
    "x_train = preproc_x(x_train)\n",
    "x_test = preproc_x(x_test)\n",
    "\n",
    "# Preprc the outputs\n",
    "y_train = preproc_y(y_train)\n",
    "y_test = preproc_y(y_test)"
   ]
  },
  {
   "cell_type": "code",
   "execution_count": 5,
   "metadata": {},
   "outputs": [],
   "source": [
    "from keras.layers import BatchNormalization\n",
    "\n",
    "\"\"\"\n",
    "建立神經網路，並加入 BN layer\n",
    "\"\"\"\n",
    "def build_mlp(input_shape, output_units=10, num_neurons=[512, 256, 128]):\n",
    "    input_layer = keras.layers.Input(input_shape)\n",
    "    \n",
    "    for i, n_units in enumerate(num_neurons):\n",
    "        if i == 0:\n",
    "            x = keras.layers.Dense(units=n_units, \n",
    "                                   activation=\"relu\", \n",
    "                                   name=\"hidden_layer\"+str(i+1))(input_layer)\n",
    "            x = BatchNormalization()(x)\n",
    "        else:\n",
    "            x = keras.layers.Dense(units=n_units, \n",
    "                                   activation=\"relu\", \n",
    "                                   name=\"hidden_layer\"+str(i+1))(x)\n",
    "            x = BatchNormalization()(x)\n",
    "    \n",
    "    out = keras.layers.Dense(units=output_units, activation=\"softmax\", name=\"output\")(x)\n",
    "    \n",
    "    model = keras.models.Model(inputs=[input_layer], outputs=[out])\n",
    "    return model"
   ]
  },
  {
   "cell_type": "code",
   "execution_count": 6,
   "metadata": {},
   "outputs": [],
   "source": [
    "## 超參數設定\n",
    "LEARNING_RATE = 1e-3\n",
    "EPOCHS = 25\n",
    "BATCH_SIZE = 1024\n",
    "MOMENTUM = 0.95"
   ]
  },
  {
   "cell_type": "code",
   "execution_count": 9,
   "metadata": {},
   "outputs": [],
   "source": [
    "import tensorflow as tf\n",
    "import keras.backend as K\n",
    "\n",
    "\"\"\"\n",
    "# 撰寫自定義的 loss function: focal loss (https://blog.csdn.net/u014380165/article/details/77019084)\n",
    "\"\"\"\n",
    "def focal_loss(gamma=2., alpha=4.):\n",
    "    gamma = float(gamma)\n",
    "    alpha = float(alpha)\n",
    "    def focal_loss_fixed(y_true, y_pred):\n",
    "        \"\"\"Focal loss for multi-classification\n",
    "        FL(p_t)=-alpha(1-p_t)^{gamma}ln(p_t)\n",
    "        \"\"\"\n",
    "        epsilon = 1e-8\n",
    "        y_true = tf.convert_to_tensor(y_true, tf.float32)\n",
    "        y_pred = tf.convert_to_tensor(y_pred, tf.float32)\n",
    "\n",
    "        model_out = tf.add(y_pred, epsilon)\n",
    "        ce = tf.multiply(y_true, -tf.log(model_out))\n",
    "        weight = tf.multiply(y_true, tf.pow(tf.subtract(1., model_out), gamma))\n",
    "        fl = tf.multiply(alpha, tf.multiply(weight, ce))\n",
    "        reduced_fl = tf.reduce_max(fl, axis=1)\n",
    "        return tf.reduce_mean(reduced_fl)\n",
    "    return focal_loss_fixed"
   ]
  },
  {
   "cell_type": "code",
   "execution_count": 11,
   "metadata": {
    "scrolled": true
   },
   "outputs": [
    {
     "name": "stderr",
     "output_type": "stream",
     "text": [
      "WARNING: Logging before flag parsing goes to stderr.\n",
      "W0725 22:20:33.804182 10572 deprecation_wrapper.py:119] From C:\\ProgramData\\Anaconda3\\lib\\site-packages\\keras\\backend\\tensorflow_backend.py:74: The name tf.get_default_graph is deprecated. Please use tf.compat.v1.get_default_graph instead.\n",
      "\n",
      "W0725 22:20:33.824183 10572 deprecation_wrapper.py:119] From C:\\ProgramData\\Anaconda3\\lib\\site-packages\\keras\\backend\\tensorflow_backend.py:517: The name tf.placeholder is deprecated. Please use tf.compat.v1.placeholder instead.\n",
      "\n",
      "W0725 22:20:33.827183 10572 deprecation_wrapper.py:119] From C:\\ProgramData\\Anaconda3\\lib\\site-packages\\keras\\backend\\tensorflow_backend.py:4138: The name tf.random_uniform is deprecated. Please use tf.random.uniform instead.\n",
      "\n",
      "W0725 22:20:33.918188 10572 deprecation_wrapper.py:119] From C:\\ProgramData\\Anaconda3\\lib\\site-packages\\keras\\backend\\tensorflow_backend.py:133: The name tf.placeholder_with_default is deprecated. Please use tf.compat.v1.placeholder_with_default instead.\n",
      "\n",
      "W0725 22:20:34.252208 10572 deprecation_wrapper.py:119] From C:\\ProgramData\\Anaconda3\\lib\\site-packages\\keras\\optimizers.py:790: The name tf.train.Optimizer is deprecated. Please use tf.compat.v1.train.Optimizer instead.\n",
      "\n",
      "W0725 22:20:34.391216 10572 deprecation.py:323] From C:\\ProgramData\\Anaconda3\\lib\\site-packages\\tensorflow\\python\\ops\\math_grad.py:1205: add_dispatch_support.<locals>.wrapper (from tensorflow.python.ops.array_ops) is deprecated and will be removed in a future version.\n",
      "Instructions for updating:\n",
      "Use tf.where in 2.0, which has the same broadcast rule as np.where\n"
     ]
    },
    {
     "name": "stdout",
     "output_type": "stream",
     "text": [
      "_________________________________________________________________\n",
      "Layer (type)                 Output Shape              Param #   \n",
      "=================================================================\n",
      "input_1 (InputLayer)         (None, 3072)              0         \n",
      "_________________________________________________________________\n",
      "hidden_layer1 (Dense)        (None, 512)               1573376   \n",
      "_________________________________________________________________\n",
      "batch_normalization_1 (Batch (None, 512)               2048      \n",
      "_________________________________________________________________\n",
      "hidden_layer2 (Dense)        (None, 256)               131328    \n",
      "_________________________________________________________________\n",
      "batch_normalization_2 (Batch (None, 256)               1024      \n",
      "_________________________________________________________________\n",
      "hidden_layer3 (Dense)        (None, 128)               32896     \n",
      "_________________________________________________________________\n",
      "batch_normalization_3 (Batch (None, 128)               512       \n",
      "_________________________________________________________________\n",
      "output (Dense)               (None, 10)                1290      \n",
      "=================================================================\n",
      "Total params: 1,742,474\n",
      "Trainable params: 1,740,682\n",
      "Non-trainable params: 1,792\n",
      "_________________________________________________________________\n"
     ]
    },
    {
     "name": "stderr",
     "output_type": "stream",
     "text": [
      "W0725 22:20:34.840241 10572 deprecation_wrapper.py:119] From C:\\ProgramData\\Anaconda3\\lib\\site-packages\\keras\\backend\\tensorflow_backend.py:986: The name tf.assign_add is deprecated. Please use tf.compat.v1.assign_add instead.\n",
      "\n"
     ]
    },
    {
     "name": "stdout",
     "output_type": "stream",
     "text": [
      "Train on 50000 samples, validate on 10000 samples\n",
      "Epoch 1/25\n",
      "50000/50000 [==============================] - 6s 128us/step - loss: 6.0319 - acc: 0.3276 - val_loss: 6.3739 - val_acc: 0.3293\n",
      "Epoch 2/25\n",
      "50000/50000 [==============================] - 6s 115us/step - loss: 4.3823 - acc: 0.4432 - val_loss: 4.6703 - val_acc: 0.4182\n",
      "Epoch 3/25\n",
      "50000/50000 [==============================] - 6s 118us/step - loss: 3.9738 - acc: 0.4846 - val_loss: 4.3580 - val_acc: 0.4383\n",
      "Epoch 4/25\n",
      "50000/50000 [==============================] - 6s 122us/step - loss: 3.7103 - acc: 0.5066 - val_loss: 4.3896 - val_acc: 0.4398\n",
      "Epoch 5/25\n",
      "50000/50000 [==============================] - 6s 122us/step - loss: 3.4882 - acc: 0.5289 - val_loss: 4.1562 - val_acc: 0.4576\n",
      "Epoch 6/25\n",
      "50000/50000 [==============================] - 6s 122us/step - loss: 3.2983 - acc: 0.5455 - val_loss: 4.1448 - val_acc: 0.4524\n",
      "Epoch 7/25\n",
      "50000/50000 [==============================] - 6s 121us/step - loss: 3.1385 - acc: 0.5653 - val_loss: 4.1065 - val_acc: 0.4662\n",
      "Epoch 8/25\n",
      "50000/50000 [==============================] - 6s 119us/step - loss: 2.9781 - acc: 0.5813 - val_loss: 3.9372 - val_acc: 0.4760\n",
      "Epoch 9/25\n",
      "50000/50000 [==============================] - 6s 117us/step - loss: 2.8177 - acc: 0.6002 - val_loss: 4.1344 - val_acc: 0.4672\n",
      "Epoch 10/25\n",
      "50000/50000 [==============================] - 6s 117us/step - loss: 2.6932 - acc: 0.6112 - val_loss: 4.2823 - val_acc: 0.4532\n",
      "Epoch 11/25\n",
      "50000/50000 [==============================] - 6s 119us/step - loss: 2.5519 - acc: 0.6287 - val_loss: 4.1272 - val_acc: 0.4654\n",
      "Epoch 12/25\n",
      "50000/50000 [==============================] - 6s 118us/step - loss: 2.4267 - acc: 0.6446 - val_loss: 3.9191 - val_acc: 0.4829\n",
      "Epoch 13/25\n",
      "50000/50000 [==============================] - 6s 123us/step - loss: 2.3021 - acc: 0.6567 - val_loss: 4.0260 - val_acc: 0.4793\n",
      "Epoch 14/25\n",
      "50000/50000 [==============================] - 6s 120us/step - loss: 2.1788 - acc: 0.6694 - val_loss: 4.0394 - val_acc: 0.4788\n",
      "Epoch 15/25\n",
      "50000/50000 [==============================] - 6s 120us/step - loss: 2.0557 - acc: 0.6873 - val_loss: 4.1053 - val_acc: 0.4814\n",
      "Epoch 16/25\n",
      "50000/50000 [==============================] - 6s 116us/step - loss: 1.9382 - acc: 0.7037 - val_loss: 4.0891 - val_acc: 0.4886\n",
      "Epoch 17/25\n",
      "50000/50000 [==============================] - 6s 118us/step - loss: 1.8176 - acc: 0.7149 - val_loss: 4.0522 - val_acc: 0.4915\n",
      "Epoch 18/25\n",
      "50000/50000 [==============================] - 6s 115us/step - loss: 1.7006 - acc: 0.7300 - val_loss: 4.3902 - val_acc: 0.4782\n",
      "Epoch 19/25\n",
      "50000/50000 [==============================] - 6s 118us/step - loss: 1.6041 - acc: 0.7446 - val_loss: 4.5717 - val_acc: 0.4631\n",
      "Epoch 20/25\n",
      "50000/50000 [==============================] - 6s 117us/step - loss: 1.4955 - acc: 0.7582 - val_loss: 4.4650 - val_acc: 0.4589\n",
      "Epoch 21/25\n",
      "50000/50000 [==============================] - 6s 117us/step - loss: 1.3907 - acc: 0.7722 - val_loss: 4.4019 - val_acc: 0.4783\n",
      "Epoch 22/25\n",
      "50000/50000 [==============================] - 6s 119us/step - loss: 1.2925 - acc: 0.7832 - val_loss: 4.4176 - val_acc: 0.4769\n",
      "Epoch 23/25\n",
      "50000/50000 [==============================] - 6s 119us/step - loss: 1.1887 - acc: 0.8023 - val_loss: 4.5584 - val_acc: 0.4874\n",
      "Epoch 24/25\n",
      "50000/50000 [==============================] - 6s 117us/step - loss: 1.1050 - acc: 0.8139 - val_loss: 4.5335 - val_acc: 0.4841\n",
      "Epoch 25/25\n",
      "50000/50000 [==============================] - 6s 121us/step - loss: 1.0206 - acc: 0.8253 - val_loss: 4.7161 - val_acc: 0.4815\n"
     ]
    },
    {
     "ename": "KeyError",
     "evalue": "'val_f1sc'",
     "output_type": "error",
     "traceback": [
      "\u001b[1;31m---------------------------------------------------------------------------\u001b[0m",
      "\u001b[1;31mKeyError\u001b[0m                                  Traceback (most recent call last)",
      "\u001b[1;32m<ipython-input-11-885fe266095b>\u001b[0m in \u001b[0;36m<module>\u001b[1;34m\u001b[0m\n\u001b[0;32m     20\u001b[0m \u001b[0mvalid_acc\u001b[0m \u001b[1;33m=\u001b[0m \u001b[0mmodel\u001b[0m\u001b[1;33m.\u001b[0m\u001b[0mhistory\u001b[0m\u001b[1;33m.\u001b[0m\u001b[0mhistory\u001b[0m\u001b[1;33m[\u001b[0m\u001b[1;34m\"val_acc\"\u001b[0m\u001b[1;33m]\u001b[0m\u001b[1;33m\u001b[0m\u001b[1;33m\u001b[0m\u001b[0m\n\u001b[0;32m     21\u001b[0m \u001b[1;33m\u001b[0m\u001b[0m\n\u001b[1;32m---> 22\u001b[1;33m \u001b[0mvalid_f1sc\u001b[0m \u001b[1;33m=\u001b[0m \u001b[0mmodel\u001b[0m\u001b[1;33m.\u001b[0m\u001b[0mhistory\u001b[0m\u001b[1;33m.\u001b[0m\u001b[0mhistory\u001b[0m\u001b[1;33m[\u001b[0m\u001b[1;34m'val_f1sc'\u001b[0m\u001b[1;33m]\u001b[0m\u001b[1;33m\u001b[0m\u001b[1;33m\u001b[0m\u001b[0m\n\u001b[0m",
      "\u001b[1;31mKeyError\u001b[0m: 'val_f1sc'"
     ]
    }
   ],
   "source": [
    "model = build_mlp(input_shape=x_train.shape[1:])\n",
    "model.summary()\n",
    "optimizer = keras.optimizers.SGD(lr=LEARNING_RATE, nesterov=True, momentum=MOMENTUM)\n",
    "\"\"\"\n",
    "# 在 compile 時，使用自定義的 loss function\n",
    "\"\"\"\n",
    "model.compile(loss=focal_loss(), metrics=[\"accuracy\"], optimizer=optimizer)\n",
    "\n",
    "model.fit(x_train, y_train, \n",
    "          epochs=EPOCHS, \n",
    "          batch_size=BATCH_SIZE, \n",
    "          validation_data=(x_test, y_test), \n",
    "          shuffle=True\n",
    "         )\n",
    "\n",
    "# Collect results\n",
    "train_loss = model.history.history[\"loss\"]\n",
    "valid_loss = model.history.history[\"val_loss\"]\n",
    "train_acc = model.history.history[\"acc\"]\n",
    "valid_acc = model.history.history[\"val_acc\"]\n",
    "\n",
    "valid_f1sc = model.history.history['val_f1sc']"
   ]
  },
  {
   "cell_type": "code",
   "execution_count": 12,
   "metadata": {},
   "outputs": [
    {
     "data": {
      "image/png": "[encoded data removed]",
      "text/plain": [
       "<Figure size 432x288 with 1 Axes>"
      ]
     },
     "metadata": {
      "needs_background": "light"
     },
     "output_type": "display_data"
    },
    {
     "data": {
      "image/png": "[encoded data removed]",
      "text/plain": [
       "<Figure size 432x288 with 1 Axes>"
      ]
     },
     "metadata": {
      "needs_background": "light"
     },
     "output_type": "display_data"
    }
   ],
   "source": [
    "import matplotlib.pyplot as plt\n",
    "%matplotlib inline\n",
    "\n",
    "plt.plot(range(len(train_loss)), train_loss, label=\"train loss\")\n",
    "plt.plot(range(len(valid_loss)), valid_loss, label=\"valid loss\")\n",
    "plt.legend()\n",
    "plt.title(\"Loss\")\n",
    "plt.show()\n",
    "\n",
    "plt.plot(range(len(train_acc)), train_acc, label=\"train accuracy\")\n",
    "plt.plot(range(len(valid_acc)), valid_acc, label=\"valid accuracy\")\n",
    "plt.legend()\n",
    "plt.title(\"Accuracy\")\n",
    "plt.show()"
   ]
  },
  {
   "cell_type": "code",
   "execution_count": null,
   "metadata": {},
   "outputs": [],
   "source": []
  }
 ],
 "metadata": {
  "kernelspec": {
   "display_name": "Python 3",
   "language": "python",
   "name": "python3"
  },
  "language_info": {
   "codemirror_mode": {
    "name": "ipython",
    "version": 3
   },
   "file_extension": ".py",
   "mimetype": "text/x-python",
   "name": "python",
   "nbconvert_exporter": "python",
   "pygments_lexer": "ipython3",
   "version": "3.7.3"
  }
 },
 "nbformat": 4,
 "nbformat_minor": 2
}
