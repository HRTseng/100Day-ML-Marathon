{
 "cells": [
  {
   "cell_type": "markdown",
   "metadata": {},
   "source": [
    "## Work\n",
    "1. 試比較 save_best_only 與否的差異\n",
    "2. 請僅存入將 save_weights_only 設定為 True, 並嘗試 reset ipynb 並將模型與權重重新建回並預測 x_test"
   ]
  },
  {
   "cell_type": "code",
   "execution_count": 1,
   "metadata": {},
   "outputs": [
    {
     "name": "stderr",
     "output_type": "stream",
     "text": [
      "Using TensorFlow backend.\n"
     ]
    }
   ],
   "source": [
    "import os \n",
    "import keras\n",
    "\n",
    "# Disable GPU\n",
    "os.environ[\"CUDA_VISIBLE_DEVICES\"] = \"0\""
   ]
  },
  {
   "cell_type": "code",
   "execution_count": 2,
   "metadata": {},
   "outputs": [],
   "source": [
    "train, test = keras.datasets.cifar10.load_data()"
   ]
  },
  {
   "cell_type": "code",
   "execution_count": 3,
   "metadata": {},
   "outputs": [],
   "source": [
    "## 資料前處理\n",
    "def preproc_x(x, flatten=True):\n",
    "    x = x / 255.\n",
    "    if flatten:\n",
    "        x = x.reshape((len(x), -1))\n",
    "    return x\n",
    "\n",
    "def preproc_y(y, num_classes=10):\n",
    "    if y.shape[-1] == 1:\n",
    "        y = keras.utils.to_categorical(y, num_classes)\n",
    "    return y    "
   ]
  },
  {
   "cell_type": "code",
   "execution_count": 4,
   "metadata": {},
   "outputs": [],
   "source": [
    "x_train, y_train = train\n",
    "x_test, y_test = test\n",
    "\n",
    "# Preproc the inputs\n",
    "x_train = preproc_x(x_train)\n",
    "x_test = preproc_x(x_test)\n",
    "\n",
    "# Preprc the outputs\n",
    "y_train = preproc_y(y_train)\n",
    "y_test = preproc_y(y_test)"
   ]
  },
  {
   "cell_type": "code",
   "execution_count": 5,
   "metadata": {},
   "outputs": [],
   "source": [
    "from keras.layers import BatchNormalization\n",
    "\n",
    "\"\"\"\n",
    "建立神經網路，並加入 BN layer\n",
    "\"\"\"\n",
    "def build_mlp(input_shape, output_units=10, num_neurons=[512, 256, 128]):\n",
    "    input_layer = keras.layers.Input(input_shape)\n",
    "    \n",
    "    for i, n_units in enumerate(num_neurons):\n",
    "        if i == 0:\n",
    "            x = keras.layers.Dense(units=n_units, \n",
    "                                   activation=\"relu\", \n",
    "                                   name=\"hidden_layer\"+str(i+1))(input_layer)\n",
    "            x = BatchNormalization()(x)\n",
    "        else:\n",
    "            x = keras.layers.Dense(units=n_units, \n",
    "                                   activation=\"relu\", \n",
    "                                   name=\"hidden_layer\"+str(i+1))(x)\n",
    "            x = BatchNormalization()(x)\n",
    "    \n",
    "    out = keras.layers.Dense(units=output_units, activation=\"softmax\", name=\"output\")(x)\n",
    "    \n",
    "    model = keras.models.Model(inputs=[input_layer], outputs=[out])\n",
    "    return model"
   ]
  },
  {
   "cell_type": "code",
   "execution_count": 6,
   "metadata": {},
   "outputs": [],
   "source": [
    "## 超參數設定\n",
    "LEARNING_RATE = 1e-3\n",
    "EPOCHS = 50\n",
    "BATCH_SIZE = 1024\n",
    "MOMENTUM = 0.95"
   ]
  },
  {
   "cell_type": "code",
   "execution_count": 8,
   "metadata": {},
   "outputs": [],
   "source": [
    "# 載入 Callbacks\n",
    "from keras.callbacks import ModelCheckpoint\n",
    "\n",
    "model_ckpt = ModelCheckpoint(filepath=\"./tmp.h5\", \n",
    "                             monitor=\"val_loss\", \n",
    "                             save_best_only=True)"
   ]
  },
  {
   "cell_type": "code",
   "execution_count": 9,
   "metadata": {},
   "outputs": [
    {
     "name": "stderr",
     "output_type": "stream",
     "text": [
      "W0726 22:03:49.585398  6500 deprecation.py:323] From C:\\ProgramData\\Anaconda3\\lib\\site-packages\\tensorflow\\python\\ops\\math_grad.py:1250: add_dispatch_support.<locals>.wrapper (from tensorflow.python.ops.array_ops) is deprecated and will be removed in a future version.\n",
      "Instructions for updating:\n",
      "Use tf.where in 2.0, which has the same broadcast rule as np.where\n"
     ]
    },
    {
     "name": "stdout",
     "output_type": "stream",
     "text": [
      "_________________________________________________________________\n",
      "Layer (type)                 Output Shape              Param #   \n",
      "=================================================================\n",
      "input_2 (InputLayer)         (None, 3072)              0         \n",
      "_________________________________________________________________\n",
      "hidden_layer1 (Dense)        (None, 512)               1573376   \n",
      "_________________________________________________________________\n",
      "batch_normalization_4 (Batch (None, 512)               2048      \n",
      "_________________________________________________________________\n",
      "hidden_layer2 (Dense)        (None, 256)               131328    \n",
      "_________________________________________________________________\n",
      "batch_normalization_5 (Batch (None, 256)               1024      \n",
      "_________________________________________________________________\n",
      "hidden_layer3 (Dense)        (None, 128)               32896     \n",
      "_________________________________________________________________\n",
      "batch_normalization_6 (Batch (None, 128)               512       \n",
      "_________________________________________________________________\n",
      "output (Dense)               (None, 10)                1290      \n",
      "=================================================================\n",
      "Total params: 1,742,474\n",
      "Trainable params: 1,740,682\n",
      "Non-trainable params: 1,792\n",
      "_________________________________________________________________\n",
      "Train on 50000 samples, validate on 10000 samples\n",
      "Epoch 1/50\n",
      "50000/50000 [==============================] - 6s 128us/step - loss: 2.2312 - acc: 0.2627 - val_loss: 2.1706 - val_acc: 0.3100\n",
      "Epoch 2/50\n",
      "50000/50000 [==============================] - 5s 108us/step - loss: 1.7591 - acc: 0.3850 - val_loss: 1.8385 - val_acc: 0.3780\n",
      "Epoch 3/50\n",
      "50000/50000 [==============================] - 5s 105us/step - loss: 1.6296 - acc: 0.4297 - val_loss: 1.7104 - val_acc: 0.4043\n",
      "Epoch 4/50\n",
      "50000/50000 [==============================] - 5s 104us/step - loss: 1.5559 - acc: 0.4566 - val_loss: 1.6546 - val_acc: 0.4241\n",
      "Epoch 5/50\n",
      "50000/50000 [==============================] - 5s 105us/step - loss: 1.4985 - acc: 0.4773 - val_loss: 1.5932 - val_acc: 0.4422\n",
      "Epoch 6/50\n",
      "50000/50000 [==============================] - 5s 104us/step - loss: 1.4544 - acc: 0.4925 - val_loss: 1.5711 - val_acc: 0.4441\n",
      "Epoch 7/50\n",
      "50000/50000 [==============================] - 5s 104us/step - loss: 1.4138 - acc: 0.5073 - val_loss: 1.5533 - val_acc: 0.4523\n",
      "Epoch 8/50\n",
      "50000/50000 [==============================] - 5s 104us/step - loss: 1.3761 - acc: 0.5213 - val_loss: 1.5335 - val_acc: 0.4617\n",
      "Epoch 9/50\n",
      "50000/50000 [==============================] - 5s 105us/step - loss: 1.3454 - acc: 0.5331 - val_loss: 1.5351 - val_acc: 0.4621\n",
      "Epoch 10/50\n",
      "50000/50000 [==============================] - 5s 104us/step - loss: 1.3164 - acc: 0.5428 - val_loss: 1.5061 - val_acc: 0.4672\n",
      "Epoch 11/50\n",
      "50000/50000 [==============================] - 6s 121us/step - loss: 1.2868 - acc: 0.5532 - val_loss: 1.5053 - val_acc: 0.4728\n",
      "Epoch 12/50\n",
      "50000/50000 [==============================] - 6s 127us/step - loss: 1.2592 - acc: 0.5642 - val_loss: 1.4969 - val_acc: 0.4766\n",
      "Epoch 13/50\n",
      "50000/50000 [==============================] - 6s 117us/step - loss: 1.2343 - acc: 0.5736 - val_loss: 1.4867 - val_acc: 0.4785\n",
      "Epoch 14/50\n",
      "50000/50000 [==============================] - 6s 115us/step - loss: 1.2102 - acc: 0.5823 - val_loss: 1.4668 - val_acc: 0.4868\n",
      "Epoch 15/50\n",
      "50000/50000 [==============================] - 5s 109us/step - loss: 1.1844 - acc: 0.5934 - val_loss: 1.4695 - val_acc: 0.4819\n",
      "Epoch 16/50\n",
      "50000/50000 [==============================] - 6s 114us/step - loss: 1.1602 - acc: 0.6004 - val_loss: 1.4640 - val_acc: 0.4864\n",
      "Epoch 17/50\n",
      "50000/50000 [==============================] - 6s 119us/step - loss: 1.1363 - acc: 0.6106 - val_loss: 1.4655 - val_acc: 0.4851\n",
      "Epoch 18/50\n",
      "50000/50000 [==============================] - 6s 117us/step - loss: 1.1147 - acc: 0.6193 - val_loss: 1.4606 - val_acc: 0.4925\n",
      "Epoch 19/50\n",
      "50000/50000 [==============================] - 5s 102us/step - loss: 1.0934 - acc: 0.6275 - val_loss: 1.4775 - val_acc: 0.4852\n",
      "Epoch 20/50\n",
      "50000/50000 [==============================] - 5s 101us/step - loss: 1.0707 - acc: 0.6358 - val_loss: 1.4600 - val_acc: 0.4895\n",
      "Epoch 21/50\n",
      "50000/50000 [==============================] - 5s 102us/step - loss: 1.0498 - acc: 0.6444 - val_loss: 1.4602 - val_acc: 0.4935\n",
      "Epoch 22/50\n",
      "50000/50000 [==============================] - 5s 102us/step - loss: 1.0286 - acc: 0.6518 - val_loss: 1.4713 - val_acc: 0.4890\n",
      "Epoch 23/50\n",
      "50000/50000 [==============================] - 5s 108us/step - loss: 1.0070 - acc: 0.6622 - val_loss: 1.4674 - val_acc: 0.4879\n",
      "Epoch 24/50\n",
      "50000/50000 [==============================] - 5s 109us/step - loss: 0.9860 - acc: 0.6681 - val_loss: 1.4694 - val_acc: 0.4914\n",
      "Epoch 25/50\n",
      "50000/50000 [==============================] - 5s 104us/step - loss: 0.9665 - acc: 0.6753 - val_loss: 1.4957 - val_acc: 0.4882\n",
      "Epoch 26/50\n",
      "50000/50000 [==============================] - 5s 103us/step - loss: 0.9453 - acc: 0.6849 - val_loss: 1.4878 - val_acc: 0.4893\n",
      "Epoch 27/50\n",
      "50000/50000 [==============================] - 5s 103us/step - loss: 0.9241 - acc: 0.6933 - val_loss: 1.4719 - val_acc: 0.4948\n",
      "Epoch 28/50\n",
      "50000/50000 [==============================] - 5s 103us/step - loss: 0.9046 - acc: 0.6995 - val_loss: 1.4902 - val_acc: 0.4854\n",
      "Epoch 29/50\n",
      "50000/50000 [==============================] - 5s 104us/step - loss: 0.8836 - acc: 0.7078 - val_loss: 1.4942 - val_acc: 0.4896\n",
      "Epoch 30/50\n",
      "50000/50000 [==============================] - 5s 104us/step - loss: 0.8641 - acc: 0.7154 - val_loss: 1.4911 - val_acc: 0.4923\n",
      "Epoch 31/50\n",
      "50000/50000 [==============================] - 5s 103us/step - loss: 0.8441 - acc: 0.7243 - val_loss: 1.4989 - val_acc: 0.4951\n",
      "Epoch 32/50\n",
      "50000/50000 [==============================] - 5s 104us/step - loss: 0.8249 - acc: 0.7328 - val_loss: 1.5025 - val_acc: 0.4914\n",
      "Epoch 33/50\n",
      "50000/50000 [==============================] - 5s 105us/step - loss: 0.8049 - acc: 0.7380 - val_loss: 1.5076 - val_acc: 0.4931\n",
      "Epoch 34/50\n",
      "50000/50000 [==============================] - 5s 105us/step - loss: 0.7852 - acc: 0.7467 - val_loss: 1.5168 - val_acc: 0.4945\n",
      "Epoch 35/50\n",
      "50000/50000 [==============================] - 6s 117us/step - loss: 0.7656 - acc: 0.7559 - val_loss: 1.5442 - val_acc: 0.4893\n",
      "Epoch 36/50\n",
      "50000/50000 [==============================] - 6s 117us/step - loss: 0.7459 - acc: 0.7613 - val_loss: 1.5412 - val_acc: 0.4906\n",
      "Epoch 37/50\n",
      "50000/50000 [==============================] - 5s 103us/step - loss: 0.7293 - acc: 0.7689 - val_loss: 1.5393 - val_acc: 0.4894\n",
      "Epoch 38/50\n",
      "50000/50000 [==============================] - 6s 126us/step - loss: 0.7070 - acc: 0.7775 - val_loss: 1.5641 - val_acc: 0.4862\n",
      "Epoch 39/50\n",
      "50000/50000 [==============================] - 5s 102us/step - loss: 0.6890 - acc: 0.7856 - val_loss: 1.5738 - val_acc: 0.4861\n",
      "Epoch 40/50\n",
      "50000/50000 [==============================] - 5s 106us/step - loss: 0.6698 - acc: 0.7928 - val_loss: 1.5814 - val_acc: 0.4837\n",
      "Epoch 41/50\n",
      "50000/50000 [==============================] - 5s 110us/step - loss: 0.6516 - acc: 0.8004 - val_loss: 1.5682 - val_acc: 0.4870\n",
      "Epoch 42/50\n",
      "50000/50000 [==============================] - 5s 103us/step - loss: 0.6352 - acc: 0.8072 - val_loss: 1.5851 - val_acc: 0.4893\n",
      "Epoch 43/50\n",
      "50000/50000 [==============================] - 5s 101us/step - loss: 0.6176 - acc: 0.8144 - val_loss: 1.6111 - val_acc: 0.4867\n",
      "Epoch 44/50\n",
      "50000/50000 [==============================] - 5s 106us/step - loss: 0.6000 - acc: 0.8205 - val_loss: 1.6193 - val_acc: 0.4935\n",
      "Epoch 45/50\n",
      "50000/50000 [==============================] - 5s 106us/step - loss: 0.5813 - acc: 0.8289 - val_loss: 1.6378 - val_acc: 0.4808\n",
      "Epoch 46/50\n",
      "50000/50000 [==============================] - 5s 106us/step - loss: 0.5638 - acc: 0.8345 - val_loss: 1.6396 - val_acc: 0.4890\n",
      "Epoch 47/50\n",
      "50000/50000 [==============================] - 5s 106us/step - loss: 0.5464 - acc: 0.8437 - val_loss: 1.6559 - val_acc: 0.4843\n",
      "Epoch 48/50\n",
      "50000/50000 [==============================] - 5s 106us/step - loss: 0.5289 - acc: 0.8494 - val_loss: 1.6680 - val_acc: 0.4834\n",
      "Epoch 49/50\n"
     ]
    },
    {
     "name": "stdout",
     "output_type": "stream",
     "text": [
      "50000/50000 [==============================] - 5s 107us/step - loss: 0.5123 - acc: 0.8566 - val_loss: 1.6744 - val_acc: 0.4854\n",
      "Epoch 50/50\n",
      "50000/50000 [==============================] - 5s 108us/step - loss: 0.4953 - acc: 0.8616 - val_loss: 1.6878 - val_acc: 0.4852\n"
     ]
    }
   ],
   "source": [
    "model = build_mlp(input_shape=x_train.shape[1:])\n",
    "model.summary()\n",
    "optimizer = keras.optimizers.SGD(lr=LEARNING_RATE, nesterov=True, momentum=MOMENTUM)\n",
    "model.compile(loss=\"categorical_crossentropy\", metrics=[\"accuracy\"], optimizer=optimizer)\n",
    "\n",
    "model.fit(x_train, y_train, \n",
    "          epochs=EPOCHS, \n",
    "          batch_size=BATCH_SIZE, \n",
    "          validation_data=(x_test, y_test), \n",
    "          shuffle=True,\n",
    "          callbacks=[model_ckpt]\n",
    "         )\n",
    "model.save(\"final_model.h5\")\n",
    "model.save_weights(\"model_weights.h5\")\n",
    "# Collect results\n",
    "train_loss = model.history.history[\"loss\"]\n",
    "valid_loss = model.history.history[\"val_loss\"]\n",
    "train_acc = model.history.history[\"acc\"]\n",
    "valid_acc = model.history.history[\"val_acc\"]\n",
    "\n",
    "pred_final = model.predict(x_test)\n",
    "# Load back\n",
    "model = keras.models.load_model(\"./tmp.h5\")\n",
    "pred_loadback = model.predict(x_test)"
   ]
  },
  {
   "cell_type": "code",
   "execution_count": 10,
   "metadata": {},
   "outputs": [
    {
     "name": "stdout",
     "output_type": "stream",
     "text": [
      "Accuracy of final weights: 0.485\n",
      "Accuracy of best weights: 0.489\n"
     ]
    }
   ],
   "source": [
    "from sklearn.metrics import accuracy_score\n",
    "\n",
    "final_model_acc = accuracy_score(y_true=y_test.argmax(axis=-1), y_pred=pred_final.argmax(axis=-1))\n",
    "loadback_acc = accuracy_score(y_true=y_test.argmax(axis=-1), y_pred=pred_loadback.argmax(axis=-1))\n",
    "\n",
    "print(\"Accuracy of final weights: %.3f\" % final_model_acc)\n",
    "print(\"Accuracy of best weights: %.3f\" % loadback_acc)"
   ]
  },
  {
   "cell_type": "code",
   "execution_count": 11,
   "metadata": {
    "scrolled": true
   },
   "outputs": [
    {
     "name": "stdout",
     "output_type": "stream",
     "text": [
      "Accuracy of best weights: 0.104\n",
      "Accuracy of best weights: 0.485\n"
     ]
    }
   ],
   "source": [
    "new_model = build_mlp(input_shape=x_train.shape[1:])\n",
    "new_model_pred = new_model.predict(x_test)\n",
    "new_model_acc = accuracy_score(y_true=y_test.argmax(axis=-1), y_pred=new_model_pred.argmax(axis=-1))\n",
    "print(\"Accuracy of best weights: %.3f\" % new_model_acc)\n",
    "\n",
    "new_model.load_weights(\"./model_weights.h5\")\n",
    "new_model_pred = new_model.predict(x_test)\n",
    "new_model_loadback_acc = accuracy_score(y_true=y_test.argmax(axis=-1), y_pred=new_model_pred.argmax(axis=-1))\n",
    "print(\"Accuracy of best weights: %.3f\" % new_model_loadback_acc)"
   ]
  },
  {
   "cell_type": "code",
   "execution_count": null,
   "metadata": {},
   "outputs": [],
   "source": []
  }
 ],
 "metadata": {
  "kernelspec": {
   "display_name": "Python 3",
   "language": "python",
   "name": "python3"
  },
  "language_info": {
   "codemirror_mode": {
    "name": "ipython",
    "version": 3
   },
   "file_extension": ".py",
   "mimetype": "text/x-python",
   "name": "python",
   "nbconvert_exporter": "python",
   "pygments_lexer": "ipython3",
   "version": "3.7.3"
  }
 },
 "nbformat": 4,
 "nbformat_minor": 2
}
