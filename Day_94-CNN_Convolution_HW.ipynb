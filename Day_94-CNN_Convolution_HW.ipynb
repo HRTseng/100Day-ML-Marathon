{
 "cells": [
  {
   "cell_type": "markdown",
   "metadata": {},
   "source": [
    "# 作業目標:\n",
    "    了解 Convolution 卷積的組成"
   ]
  },
  {
   "cell_type": "markdown",
   "metadata": {},
   "source": [
    "# 作業重點:\n",
    "    修改 a_slice_prev, 檢查 Z 的輸出"
   ]
  },
  {
   "cell_type": "code",
   "execution_count": 5,
   "metadata": {},
   "outputs": [],
   "source": [
    "import numpy as np"
   ]
  },
  {
   "cell_type": "code",
   "execution_count": 6,
   "metadata": {},
   "outputs": [],
   "source": [
    "# GRADED FUNCTION: conv_single_step\n",
    "def conv_single_step(a_slice_prev, W, b):\n",
    "    \"\"\"\n",
    "    定義一層 Kernel (內核), 使用的參數說明如下\n",
    "    Arguments:\n",
    "        a_slice_prev -- 輸入資料的維度\n",
    "        W -- 權重, 被使用在 a_slice_prev\n",
    "        b -- 偏差參數 \n",
    "    Returns:\n",
    "        Z -- 滑動窗口（W，b）卷積在前一個 feature map 上的結果\n",
    "    \"\"\"\n",
    "\n",
    "    # 定義一個元素介於 a_slice and W\n",
    "    s = a_slice_prev * W\n",
    "    # 加總所有的 \"s\" 並指定給Z.\n",
    "    Z = np.sum(s)\n",
    "    # Add bias b to Z. 這是 float() 函數,\n",
    "    Z = float(Z + b)\n",
    "\n",
    "    return Z"
   ]
  },
  {
   "cell_type": "code",
   "execution_count": 9,
   "metadata": {},
   "outputs": [
    {
     "name": "stdout",
     "output_type": "stream",
     "text": [
      "Z = 8.001526603282608\n"
     ]
    }
   ],
   "source": [
    "\n",
    "np.random.seed(1)\n",
    "#定義一個 4x4x3 的 feature map\n",
    "a_slice_prev = np.random.randn(5,5,4)\n",
    "W = np.random.randn(5,5,4)\n",
    "b = np.random.randn(1, 1, 1)\n",
    "\n",
    "#取得計算後,卷績矩陣的值\n",
    "Z = conv_single_step(a_slice_prev, W, b)\n",
    "print(\"Z =\", Z)"
   ]
  },
  {
   "cell_type": "code",
   "execution_count": null,
   "metadata": {},
   "outputs": [],
   "source": []
  }
 ],
 "metadata": {
  "kernelspec": {
   "display_name": "Python 3",
   "language": "python",
   "name": "python3"
  },
  "language_info": {
   "codemirror_mode": {
    "name": "ipython",
    "version": 3
   },
   "file_extension": ".py",
   "mimetype": "text/x-python",
   "name": "python",
   "nbconvert_exporter": "python",
   "pygments_lexer": "ipython3",
   "version": "3.7.3"
  }
 },
 "nbformat": 4,
 "nbformat_minor": 2
}
