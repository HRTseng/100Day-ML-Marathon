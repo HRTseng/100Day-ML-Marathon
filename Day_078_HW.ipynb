{
 "cells": [
  {
   "cell_type": "markdown",
   "metadata": {},
   "source": [
    "## Work\n",
    "1. 請嘗試將 preproc_x 替換成以每筆資料的 min/max 進行標準化至 -1 ~ 1 間，再進行訓練\n",
    "2. 請嘗試將 mlp 疊更深 (e.g 5~10 層)，進行訓練後觀察 learning curve 的走勢\n",
    "3. (optional) 請改用 GPU 進行訓練 (如果你有 GPU 的話)，比較使用 CPU 與 GPU 的訓練速度"
   ]
  },
  {
   "cell_type": "code",
   "execution_count": null,
   "metadata": {},
   "outputs": [],
   "source": [
    "## \n",
    "\"\"\"\n",
    "Your code here (optional)\n",
    "確認硬體資源\n",
    "\"\"\"\n"
   ]
  },
  {
   "cell_type": "code",
   "execution_count": 3,
   "metadata": {},
   "outputs": [],
   "source": [
    "import os\n",
    "import keras\n",
    "\n",
    "# 請嘗試設定 GPU：os.environ\n",
    "os.environ[\"CUDA_VISIBLE_DEVICES\"] = \"0\""
   ]
  },
  {
   "cell_type": "code",
   "execution_count": 4,
   "metadata": {},
   "outputs": [],
   "source": [
    "train, test = keras.datasets.cifar10.load_data()"
   ]
  },
  {
   "cell_type": "code",
   "execution_count": 5,
   "metadata": {},
   "outputs": [],
   "source": [
    "## 資料前處理\n",
    "def preproc_x(x, flatten=True):\n",
    "    x = x / 255.\n",
    "    if flatten:\n",
    "        x = x.reshape((len(x), -1))\n",
    "    return x\n",
    "\n",
    "def preproc_y(y, num_classes=10):\n",
    "    if y.shape[-1] == 1:\n",
    "        y = keras.utils.to_categorical(y, num_classes)\n",
    "    return y    "
   ]
  },
  {
   "cell_type": "code",
   "execution_count": 6,
   "metadata": {},
   "outputs": [],
   "source": [
    "x_train, y_train = train\n",
    "x_test, y_test = test\n",
    "\n",
    "# Preproc the inputs\n",
    "x_train = preproc_x(x_train)\n",
    "x_test = preproc_x(x_test)\n",
    "\n",
    "# Preprc the outputs\n",
    "y_train = preproc_y(y_train)\n",
    "y_test = preproc_y(y_test)"
   ]
  },
  {
   "cell_type": "code",
   "execution_count": 7,
   "metadata": {},
   "outputs": [],
   "source": [
    "def build_mlp(input_shape, output_units=10, num_neurons=[512, 256, 128]):\n",
    "    input_layer = keras.layers.Input(input_shape)\n",
    "    \n",
    "    for i, n_units in enumerate(num_neurons):\n",
    "        if i == 0:\n",
    "            x = keras.layers.Dense(units=n_units, activation=\"relu\", name=\"hidden_layer\"+str(i+1))(input_layer)\n",
    "        else:\n",
    "            x = keras.layers.Dense(units=n_units, activation=\"relu\", name=\"hidden_layer\"+str(i+1))(x)\n",
    "    \n",
    "    out = keras.layers.Dense(units=output_units, activation=\"softmax\", name=\"output\")(x)\n",
    "    \n",
    "    model = keras.models.Model(inputs=[input_layer], outputs=[out])\n",
    "    return model"
   ]
  },
  {
   "cell_type": "code",
   "execution_count": 10,
   "metadata": {},
   "outputs": [
    {
     "name": "stderr",
     "output_type": "stream",
     "text": [
      "WARNING: Logging before flag parsing goes to stderr.\n",
      "W0711 22:33:06.666595 10588 deprecation_wrapper.py:119] From C:\\ProgramData\\Anaconda3\\lib\\site-packages\\keras\\backend\\tensorflow_backend.py:74: The name tf.get_default_graph is deprecated. Please use tf.compat.v1.get_default_graph instead.\n",
      "\n",
      "W0711 22:33:06.667595 10588 deprecation_wrapper.py:119] From C:\\ProgramData\\Anaconda3\\lib\\site-packages\\keras\\backend\\tensorflow_backend.py:517: The name tf.placeholder is deprecated. Please use tf.compat.v1.placeholder instead.\n",
      "\n",
      "W0711 22:33:06.671595 10588 deprecation_wrapper.py:119] From C:\\ProgramData\\Anaconda3\\lib\\site-packages\\keras\\backend\\tensorflow_backend.py:4138: The name tf.random_uniform is deprecated. Please use tf.random.uniform instead.\n",
      "\n"
     ]
    },
    {
     "name": "stdout",
     "output_type": "stream",
     "text": [
      "_________________________________________________________________\n",
      "Layer (type)                 Output Shape              Param #   \n",
      "=================================================================\n",
      "input_1 (InputLayer)         (None, 3072)              0         \n",
      "_________________________________________________________________\n",
      "hidden_layer1 (Dense)        (None, 512)               1573376   \n",
      "_________________________________________________________________\n",
      "hidden_layer2 (Dense)        (None, 256)               131328    \n",
      "_________________________________________________________________\n",
      "hidden_layer3 (Dense)        (None, 128)               32896     \n",
      "_________________________________________________________________\n",
      "output (Dense)               (None, 10)                1290      \n",
      "=================================================================\n",
      "Total params: 1,738,890\n",
      "Trainable params: 1,738,890\n",
      "Non-trainable params: 0\n",
      "_________________________________________________________________\n"
     ]
    }
   ],
   "source": [
    "model = build_mlp(input_shape=x_train.shape[1:])\n",
    "model.summary()"
   ]
  },
  {
   "cell_type": "code",
   "execution_count": 11,
   "metadata": {},
   "outputs": [],
   "source": [
    "## 超參數設定\n",
    "LEARNING_RATE = 0.001\n",
    "EPOCHS = 100\n",
    "BATCH_SIZE = 256"
   ]
  },
  {
   "cell_type": "code",
   "execution_count": 12,
   "metadata": {},
   "outputs": [
    {
     "name": "stderr",
     "output_type": "stream",
     "text": [
      "W0711 22:33:08.800717 10588 deprecation_wrapper.py:119] From C:\\ProgramData\\Anaconda3\\lib\\site-packages\\keras\\optimizers.py:790: The name tf.train.Optimizer is deprecated. Please use tf.compat.v1.train.Optimizer instead.\n",
      "\n",
      "W0711 22:33:08.813718 10588 deprecation_wrapper.py:119] From C:\\ProgramData\\Anaconda3\\lib\\site-packages\\keras\\backend\\tensorflow_backend.py:3295: The name tf.log is deprecated. Please use tf.math.log instead.\n",
      "\n"
     ]
    }
   ],
   "source": [
    "optimizer = keras.optimizers.Adam(lr=LEARNING_RATE)\n",
    "model.compile(loss=\"categorical_crossentropy\", metrics=[\"accuracy\"], optimizer=optimizer)"
   ]
  },
  {
   "cell_type": "code",
   "execution_count": 13,
   "metadata": {},
   "outputs": [
    {
     "name": "stderr",
     "output_type": "stream",
     "text": [
      "W0711 22:33:10.213798 10588 deprecation.py:323] From C:\\ProgramData\\Anaconda3\\lib\\site-packages\\tensorflow\\python\\ops\\math_grad.py:1250: add_dispatch_support.<locals>.wrapper (from tensorflow.python.ops.array_ops) is deprecated and will be removed in a future version.\n",
      "Instructions for updating:\n",
      "Use tf.where in 2.0, which has the same broadcast rule as np.where\n",
      "W0711 22:33:10.348805 10588 deprecation_wrapper.py:119] From C:\\ProgramData\\Anaconda3\\lib\\site-packages\\keras\\backend\\tensorflow_backend.py:986: The name tf.assign_add is deprecated. Please use tf.compat.v1.assign_add instead.\n",
      "\n"
     ]
    },
    {
     "name": "stdout",
     "output_type": "stream",
     "text": [
      "Train on 50000 samples, validate on 10000 samples\n",
      "Epoch 1/100\n",
      "50000/50000 [==============================] - 10s 199us/step - loss: 1.9573 - acc: 0.2920 - val_loss: 1.8258 - val_acc: 0.3409\n",
      "Epoch 2/100\n",
      "50000/50000 [==============================] - 10s 197us/step - loss: 1.7254 - acc: 0.3809 - val_loss: 1.7129 - val_acc: 0.3915\n",
      "Epoch 3/100\n",
      "50000/50000 [==============================] - 11s 215us/step - loss: 1.6425 - acc: 0.4132 - val_loss: 1.6443 - val_acc: 0.4186\n",
      "Epoch 4/100\n",
      "50000/50000 [==============================] - 10s 197us/step - loss: 1.5703 - acc: 0.4417 - val_loss: 1.6094 - val_acc: 0.4182\n",
      "Epoch 5/100\n",
      "50000/50000 [==============================] - 9s 190us/step - loss: 1.5139 - acc: 0.4613 - val_loss: 1.4975 - val_acc: 0.4701\n",
      "Epoch 6/100\n",
      "50000/50000 [==============================] - 9s 186us/step - loss: 1.4778 - acc: 0.4740 - val_loss: 1.5337 - val_acc: 0.4536\n",
      "Epoch 7/100\n",
      "50000/50000 [==============================] - 10s 194us/step - loss: 1.4540 - acc: 0.4837 - val_loss: 1.4748 - val_acc: 0.4754\n",
      "Epoch 8/100\n",
      "50000/50000 [==============================] - 10s 190us/step - loss: 1.4086 - acc: 0.4987 - val_loss: 1.4426 - val_acc: 0.4869\n",
      "Epoch 9/100\n",
      "50000/50000 [==============================] - 9s 189us/step - loss: 1.3853 - acc: 0.5060 - val_loss: 1.4409 - val_acc: 0.4831\n",
      "Epoch 10/100\n",
      "50000/50000 [==============================] - 10s 190us/step - loss: 1.3600 - acc: 0.5166 - val_loss: 1.4546 - val_acc: 0.4819\n",
      "Epoch 11/100\n",
      "50000/50000 [==============================] - 9s 186us/step - loss: 1.3297 - acc: 0.5251 - val_loss: 1.4574 - val_acc: 0.4898\n",
      "Epoch 12/100\n",
      "50000/50000 [==============================] - 9s 190us/step - loss: 1.3120 - acc: 0.5317 - val_loss: 1.4119 - val_acc: 0.4947\n",
      "Epoch 13/100\n",
      "50000/50000 [==============================] - 9s 186us/step - loss: 1.2729 - acc: 0.5458 - val_loss: 1.3705 - val_acc: 0.5085\n",
      "Epoch 14/100\n",
      "50000/50000 [==============================] - 9s 187us/step - loss: 1.2624 - acc: 0.5508 - val_loss: 1.3904 - val_acc: 0.5066\n",
      "Epoch 15/100\n",
      "50000/50000 [==============================] - 9s 189us/step - loss: 1.2442 - acc: 0.5574 - val_loss: 1.4056 - val_acc: 0.5073\n",
      "Epoch 16/100\n",
      "50000/50000 [==============================] - 10s 192us/step - loss: 1.2198 - acc: 0.5672 - val_loss: 1.3629 - val_acc: 0.5172\n",
      "Epoch 17/100\n",
      "50000/50000 [==============================] - 10s 193us/step - loss: 1.1957 - acc: 0.5750 - val_loss: 1.3963 - val_acc: 0.5036\n",
      "Epoch 18/100\n",
      "50000/50000 [==============================] - 10s 191us/step - loss: 1.1776 - acc: 0.5811 - val_loss: 1.3631 - val_acc: 0.5177\n",
      "Epoch 19/100\n",
      "50000/50000 [==============================] - 10s 191us/step - loss: 1.1501 - acc: 0.5934 - val_loss: 1.3526 - val_acc: 0.5261\n",
      "Epoch 20/100\n",
      "50000/50000 [==============================] - 10s 191us/step - loss: 1.1353 - acc: 0.5945 - val_loss: 1.3831 - val_acc: 0.5094\n",
      "Epoch 21/100\n",
      "50000/50000 [==============================] - 10s 191us/step - loss: 1.1191 - acc: 0.6006 - val_loss: 1.3942 - val_acc: 0.5169\n",
      "Epoch 22/100\n",
      "50000/50000 [==============================] - 9s 184us/step - loss: 1.0978 - acc: 0.6090 - val_loss: 1.3873 - val_acc: 0.5191\n",
      "Epoch 23/100\n",
      "50000/50000 [==============================] - 9s 187us/step - loss: 1.0765 - acc: 0.6165 - val_loss: 1.3595 - val_acc: 0.5220 2s -\n",
      "Epoch 24/100\n",
      "50000/50000 [==============================] - 10s 191us/step - loss: 1.0495 - acc: 0.6260 - val_loss: 1.3744 - val_acc: 0.5224\n",
      "Epoch 25/100\n",
      "50000/50000 [==============================] - 10s 190us/step - loss: 1.0351 - acc: 0.6319 - val_loss: 1.4238 - val_acc: 0.5202\n",
      "Epoch 26/100\n",
      "50000/50000 [==============================] - 9s 189us/step - loss: 1.0263 - acc: 0.6354 - val_loss: 1.3784 - val_acc: 0.5278\n",
      "Epoch 27/100\n",
      "50000/50000 [==============================] - 9s 185us/step - loss: 0.9988 - acc: 0.6434 - val_loss: 1.4099 - val_acc: 0.5241\n",
      "Epoch 28/100\n",
      "50000/50000 [==============================] - 9s 190us/step - loss: 0.9808 - acc: 0.6510 - val_loss: 1.4273 - val_acc: 0.5237\n",
      "Epoch 29/100\n",
      "50000/50000 [==============================] - 9s 189us/step - loss: 0.9630 - acc: 0.6585 - val_loss: 1.3945 - val_acc: 0.5292\n",
      "Epoch 30/100\n",
      "50000/50000 [==============================] - 9s 189us/step - loss: 0.9460 - acc: 0.6639 - val_loss: 1.4178 - val_acc: 0.5267\n",
      "Epoch 31/100\n",
      "50000/50000 [==============================] - 9s 189us/step - loss: 0.9268 - acc: 0.6705 - val_loss: 1.4315 - val_acc: 0.5244\n",
      "Epoch 32/100\n",
      "50000/50000 [==============================] - 9s 189us/step - loss: 0.9097 - acc: 0.6781 - val_loss: 1.4467 - val_acc: 0.5247\n",
      "Epoch 33/100\n",
      "50000/50000 [==============================] - 9s 190us/step - loss: 0.8961 - acc: 0.6813 - val_loss: 1.5159 - val_acc: 0.5102\n",
      "Epoch 34/100\n",
      "50000/50000 [==============================] - 10s 192us/step - loss: 0.8825 - acc: 0.6847 - val_loss: 1.4733 - val_acc: 0.5268\n",
      "Epoch 35/100\n",
      "50000/50000 [==============================] - 9s 183us/step - loss: 0.8622 - acc: 0.6931 - val_loss: 1.4730 - val_acc: 0.5350\n",
      "Epoch 36/100\n",
      "50000/50000 [==============================] - 9s 178us/step - loss: 0.8477 - acc: 0.6996 - val_loss: 1.4772 - val_acc: 0.5370\n",
      "Epoch 37/100\n",
      "50000/50000 [==============================] - 9s 176us/step - loss: 0.8221 - acc: 0.7083 - val_loss: 1.4961 - val_acc: 0.5316\n",
      "Epoch 38/100\n",
      "50000/50000 [==============================] - 9s 177us/step - loss: 0.8036 - acc: 0.7136 - val_loss: 1.5673 - val_acc: 0.5178\n",
      "Epoch 39/100\n",
      "50000/50000 [==============================] - 9s 178us/step - loss: 0.7924 - acc: 0.7190 - val_loss: 1.5245 - val_acc: 0.5306\n",
      "Epoch 40/100\n",
      "50000/50000 [==============================] - 9s 183us/step - loss: 0.7769 - acc: 0.7233 - val_loss: 1.5554 - val_acc: 0.5211\n",
      "Epoch 41/100\n",
      "50000/50000 [==============================] - 9s 180us/step - loss: 0.7664 - acc: 0.7274 - val_loss: 1.5919 - val_acc: 0.5250\n",
      "Epoch 42/100\n",
      "50000/50000 [==============================] - 9s 185us/step - loss: 0.7461 - acc: 0.7350 - val_loss: 1.5790 - val_acc: 0.5203\n",
      "Epoch 43/100\n",
      "50000/50000 [==============================] - 10s 200us/step - loss: 0.7380 - acc: 0.7367 - val_loss: 1.6055 - val_acc: 0.5206\n",
      "Epoch 44/100\n",
      "50000/50000 [==============================] - 10s 191us/step - loss: 0.7266 - acc: 0.7416 - val_loss: 1.6191 - val_acc: 0.5161\n",
      "Epoch 45/100\n",
      "50000/50000 [==============================] - 9s 186us/step - loss: 0.7058 - acc: 0.7473 - val_loss: 1.6740 - val_acc: 0.5252\n",
      "Epoch 46/100\n",
      "50000/50000 [==============================] - 10s 192us/step - loss: 0.6999 - acc: 0.7499 - val_loss: 1.6608 - val_acc: 0.5223\n",
      "Epoch 47/100\n",
      "50000/50000 [==============================] - 10s 191us/step - loss: 0.6867 - acc: 0.7571 - val_loss: 1.7874 - val_acc: 0.5112\n",
      "Epoch 48/100\n",
      "50000/50000 [==============================] - 9s 187us/step - loss: 0.6622 - acc: 0.7636 - val_loss: 1.7439 - val_acc: 0.5102\n",
      "Epoch 49/100\n",
      "50000/50000 [==============================] - 10s 191us/step - loss: 0.6591 - acc: 0.7658 - val_loss: 1.7572 - val_acc: 0.5194\n",
      "Epoch 50/100\n",
      "50000/50000 [==============================] - 9s 187us/step - loss: 0.6455 - acc: 0.7720 - val_loss: 1.8098 - val_acc: 0.5093\n",
      "Epoch 51/100\n",
      "50000/50000 [==============================] - 9s 186us/step - loss: 0.6262 - acc: 0.7770 - val_loss: 1.7936 - val_acc: 0.5191\n",
      "Epoch 52/100\n",
      "50000/50000 [==============================] - 9s 185us/step - loss: 0.6171 - acc: 0.7803 - val_loss: 1.8425 - val_acc: 0.5099\n",
      "Epoch 53/100\n",
      "50000/50000 [==============================] - 9s 188us/step - loss: 0.6072 - acc: 0.7833 - val_loss: 1.8453 - val_acc: 0.5137\n",
      "Epoch 54/100\n",
      "50000/50000 [==============================] - 10s 193us/step - loss: 0.5962 - acc: 0.7882 - val_loss: 1.9308 - val_acc: 0.5111\n",
      "Epoch 55/100\n",
      "50000/50000 [==============================] - 10s 192us/step - loss: 0.5893 - acc: 0.7900 - val_loss: 1.8848 - val_acc: 0.5147\n",
      "Epoch 56/100\n",
      "50000/50000 [==============================] - 10s 191us/step - loss: 0.5671 - acc: 0.7986 - val_loss: 1.9709 - val_acc: 0.5128\n",
      "Epoch 57/100\n",
      "50000/50000 [==============================] - 9s 190us/step - loss: 0.5667 - acc: 0.7963 - val_loss: 1.9335 - val_acc: 0.5166\n",
      "Epoch 58/100\n",
      "50000/50000 [==============================] - 9s 188us/step - loss: 0.5533 - acc: 0.8017 - val_loss: 2.0113 - val_acc: 0.5086\n",
      "Epoch 59/100\n"
     ]
    },
    {
     "name": "stdout",
     "output_type": "stream",
     "text": [
      "50000/50000 [==============================] - 9s 188us/step - loss: 0.5440 - acc: 0.8069 - val_loss: 1.9727 - val_acc: 0.5155\n",
      "Epoch 60/100\n",
      "50000/50000 [==============================] - 9s 187us/step - loss: 0.5425 - acc: 0.8077 - val_loss: 2.0260 - val_acc: 0.5109 - loss: 0.5401 - acc:\n",
      "Epoch 61/100\n",
      "50000/50000 [==============================] - 9s 186us/step - loss: 0.5252 - acc: 0.8127 - val_loss: 2.0380 - val_acc: 0.5164 - acc: 0.81\n",
      "Epoch 62/100\n",
      "50000/50000 [==============================] - 9s 189us/step - loss: 0.5085 - acc: 0.8185 - val_loss: 2.0922 - val_acc: 0.5084\n",
      "Epoch 63/100\n",
      "50000/50000 [==============================] - 9s 187us/step - loss: 0.5124 - acc: 0.8158 - val_loss: 2.1423 - val_acc: 0.5133\n",
      "Epoch 64/100\n",
      "50000/50000 [==============================] - 9s 187us/step - loss: 0.5038 - acc: 0.8189 - val_loss: 2.1152 - val_acc: 0.5052\n",
      "Epoch 65/100\n",
      "50000/50000 [==============================] - 10s 190us/step - loss: 0.4995 - acc: 0.8212 - val_loss: 2.1210 - val_acc: 0.5115\n",
      "Epoch 66/100\n",
      "50000/50000 [==============================] - 9s 186us/step - loss: 0.4719 - acc: 0.8315 - val_loss: 2.2436 - val_acc: 0.5015\n",
      "Epoch 67/100\n",
      "50000/50000 [==============================] - 9s 188us/step - loss: 0.4713 - acc: 0.8302 - val_loss: 2.2003 - val_acc: 0.5051\n",
      "Epoch 68/100\n",
      "50000/50000 [==============================] - 10s 195us/step - loss: 0.4644 - acc: 0.8343 - val_loss: 2.3036 - val_acc: 0.5012\n",
      "Epoch 69/100\n",
      "50000/50000 [==============================] - 10s 200us/step - loss: 0.4669 - acc: 0.8323 - val_loss: 2.2476 - val_acc: 0.5081\n",
      "Epoch 70/100\n",
      "50000/50000 [==============================] - 10s 196us/step - loss: 0.4585 - acc: 0.8363 - val_loss: 2.2634 - val_acc: 0.5049\n",
      "Epoch 71/100\n",
      "50000/50000 [==============================] - 10s 194us/step - loss: 0.4374 - acc: 0.8435 - val_loss: 2.4151 - val_acc: 0.4927\n",
      "Epoch 72/100\n",
      "50000/50000 [==============================] - 10s 194us/step - loss: 0.4298 - acc: 0.8464 - val_loss: 2.4122 - val_acc: 0.4959\n",
      "Epoch 73/100\n",
      "50000/50000 [==============================] - 10s 195us/step - loss: 0.4293 - acc: 0.8481 - val_loss: 2.3186 - val_acc: 0.5070\n",
      "Epoch 74/100\n",
      "50000/50000 [==============================] - 9s 187us/step - loss: 0.4164 - acc: 0.8520 - val_loss: 2.4429 - val_acc: 0.5025\n",
      "Epoch 75/100\n",
      "50000/50000 [==============================] - 10s 197us/step - loss: 0.4256 - acc: 0.8473 - val_loss: 2.3823 - val_acc: 0.5116\n",
      "Epoch 76/100\n",
      "50000/50000 [==============================] - 9s 182us/step - loss: 0.4488 - acc: 0.8390 - val_loss: 2.4037 - val_acc: 0.5082\n",
      "Epoch 77/100\n",
      "50000/50000 [==============================] - 10s 192us/step - loss: 0.3959 - acc: 0.8585 - val_loss: 2.4789 - val_acc: 0.5099\n",
      "Epoch 78/100\n",
      "50000/50000 [==============================] - 10s 192us/step - loss: 0.3963 - acc: 0.8578 - val_loss: 2.5016 - val_acc: 0.5089\n",
      "Epoch 79/100\n",
      "50000/50000 [==============================] - 9s 187us/step - loss: 0.3983 - acc: 0.8564 - val_loss: 2.5730 - val_acc: 0.4997\n",
      "Epoch 80/100\n",
      "50000/50000 [==============================] - 9s 185us/step - loss: 0.3890 - acc: 0.8610 - val_loss: 2.5870 - val_acc: 0.5029\n",
      "Epoch 81/100\n",
      "50000/50000 [==============================] - 9s 186us/step - loss: 0.3574 - acc: 0.8734 - val_loss: 2.5708 - val_acc: 0.5116\n",
      "Epoch 82/100\n",
      "50000/50000 [==============================] - 9s 187us/step - loss: 0.3517 - acc: 0.8744 - val_loss: 2.6513 - val_acc: 0.5004\n",
      "Epoch 83/100\n",
      "50000/50000 [==============================] - 9s 186us/step - loss: 0.3789 - acc: 0.8638 - val_loss: 2.5989 - val_acc: 0.5018\n",
      "Epoch 84/100\n",
      "50000/50000 [==============================] - 10s 191us/step - loss: 0.3615 - acc: 0.8690 - val_loss: 2.6774 - val_acc: 0.5109\n",
      "Epoch 85/100\n",
      "50000/50000 [==============================] - 10s 197us/step - loss: 0.3588 - acc: 0.8699 - val_loss: 2.7374 - val_acc: 0.4995\n",
      "Epoch 86/100\n",
      "50000/50000 [==============================] - 10s 193us/step - loss: 0.3525 - acc: 0.8742 - val_loss: 2.7218 - val_acc: 0.5026\n",
      "Epoch 87/100\n",
      "50000/50000 [==============================] - 10s 193us/step - loss: 0.3434 - acc: 0.8764 - val_loss: 2.8296 - val_acc: 0.5017\n",
      "Epoch 88/100\n",
      "50000/50000 [==============================] - 10s 193us/step - loss: 0.3612 - acc: 0.8708 - val_loss: 2.7094 - val_acc: 0.5026\n",
      "Epoch 89/100\n",
      "50000/50000 [==============================] - 10s 196us/step - loss: 0.3492 - acc: 0.8743 - val_loss: 2.7388 - val_acc: 0.5075\n",
      "Epoch 90/100\n",
      "50000/50000 [==============================] - 9s 176us/step - loss: 0.3274 - acc: 0.8824 - val_loss: 2.7963 - val_acc: 0.4960\n",
      "Epoch 91/100\n",
      "50000/50000 [==============================] - 9s 180us/step - loss: 0.3485 - acc: 0.8754 - val_loss: 2.8053 - val_acc: 0.5066\n",
      "Epoch 92/100\n",
      "50000/50000 [==============================] - 9s 187us/step - loss: 0.3318 - acc: 0.8813 - val_loss: 2.8767 - val_acc: 0.4964\n",
      "Epoch 93/100\n",
      "50000/50000 [==============================] - 10s 193us/step - loss: 0.3157 - acc: 0.8863 - val_loss: 2.8600 - val_acc: 0.5059\n",
      "Epoch 94/100\n",
      "50000/50000 [==============================] - 9s 185us/step - loss: 0.3202 - acc: 0.8857 - val_loss: 2.8051 - val_acc: 0.5129\n",
      "Epoch 95/100\n",
      "50000/50000 [==============================] - 9s 184us/step - loss: 0.3298 - acc: 0.8811 - val_loss: 2.8865 - val_acc: 0.5011\n",
      "Epoch 96/100\n",
      "50000/50000 [==============================] - 9s 189us/step - loss: 0.3052 - acc: 0.8902 - val_loss: 2.9860 - val_acc: 0.5056- ETA: 1s - loss:\n",
      "Epoch 97/100\n",
      "50000/50000 [==============================] - 10s 190us/step - loss: 0.3186 - acc: 0.8859 - val_loss: 2.8469 - val_acc: 0.5115.3192 - acc: 0.8\n",
      "Epoch 98/100\n",
      "50000/50000 [==============================] - 10s 190us/step - loss: 0.2899 - acc: 0.8972 - val_loss: 3.0110 - val_acc: 0.4957\n",
      "Epoch 99/100\n",
      "50000/50000 [==============================] - 9s 189us/step - loss: 0.2814 - acc: 0.9005 - val_loss: 2.9556 - val_acc: 0.5126\n",
      "Epoch 100/100\n",
      "50000/50000 [==============================] - 10s 194us/step - loss: 0.3144 - acc: 0.8872 - val_loss: 3.0100 - val_acc: 0.4982\n"
     ]
    },
    {
     "data": {
      "text/plain": [
       "<keras.callbacks.History at 0x180ffe80>"
      ]
     },
     "execution_count": 13,
     "metadata": {},
     "output_type": "execute_result"
    }
   ],
   "source": [
    "model.fit(x_train, y_train, \n",
    "          epochs=EPOCHS, \n",
    "          batch_size=BATCH_SIZE, \n",
    "          validation_data=(x_test, y_test), \n",
    "          shuffle=True)"
   ]
  },
  {
   "cell_type": "code",
   "execution_count": 15,
   "metadata": {},
   "outputs": [
    {
     "data": {
      "image/png": "[encoded data removed]",
      "text/plain": [
       "<Figure size 432x288 with 1 Axes>"
      ]
     },
     "metadata": {
      "needs_background": "light"
     },
     "output_type": "display_data"
    },
    {
     "data": {
      "image/png": "[encoded data removed]",
      "text/plain": [
       "<Figure size 432x288 with 1 Axes>"
      ]
     },
     "metadata": {
      "needs_background": "light"
     },
     "output_type": "display_data"
    }
   ],
   "source": [
    "import matplotlib.pyplot as plt\n",
    "\n",
    "\n",
    "train_loss = model.history.history[\"loss\"]\n",
    "valid_loss = model.history.history[\"val_loss\"]\n",
    "\n",
    "train_acc = model.history.history[\"acc\"]\n",
    "valid_acc = model.history.history[\"val_acc\"]\n",
    "\n",
    "plt.plot(range(len(train_loss)), train_loss, label=\"train loss\")\n",
    "plt.plot(range(len(valid_loss)), valid_loss, label=\"valid loss\")\n",
    "plt.legend()\n",
    "plt.title(\"Loss\")\n",
    "plt.show()\n",
    "\n",
    "plt.plot(range(len(train_acc)), train_acc, label=\"train accuracy\")\n",
    "plt.plot(range(len(valid_acc)), valid_acc, label=\"valid accuracy\")\n",
    "plt.legend()\n",
    "plt.title(\"Accuracy\")\n",
    "plt.show()"
   ]
  },
  {
   "cell_type": "code",
   "execution_count": null,
   "metadata": {},
   "outputs": [],
   "source": []
  }
 ],
 "metadata": {
  "kernelspec": {
   "display_name": "Python 3",
   "language": "python",
   "name": "python3"
  },
  "language_info": {
   "codemirror_mode": {
    "name": "ipython",
    "version": 3
   },
   "file_extension": ".py",
   "mimetype": "text/x-python",
   "name": "python",
   "nbconvert_exporter": "python",
   "pygments_lexer": "ipython3",
   "version": "3.7.3"
  }
 },
 "nbformat": 4,
 "nbformat_minor": 2
}
