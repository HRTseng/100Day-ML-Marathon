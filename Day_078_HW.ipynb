{
 "cells": [
  {
   "cell_type": "markdown",
   "metadata": {},
   "source": [
    "## Work\n",
    "1. 請嘗試將 preproc_x 替換成以每筆資料的 min/max 進行標準化至 -1 ~ 1 間，再進行訓練\n",
    "2. 請嘗試將 mlp 疊更深 (e.g 5~10 層)，進行訓練後觀察 learning curve 的走勢\n",
    "3. (optional) 請改用 GPU 進行訓練 (如果你有 GPU 的話)，比較使用 CPU 與 GPU 的訓練速度"
   ]
  },
  {
   "cell_type": "code",
   "execution_count": null,
   "metadata": {},
   "outputs": [],
   "source": [
    "## \n",
    "\"\"\"\n",
    "Your code here (optional)\n",
    "確認硬體資源\n",
    "\"\"\"\n"
   ]
  },
  {
   "cell_type": "code",
   "execution_count": 4,
   "metadata": {},
   "outputs": [
    {
     "name": "stderr",
     "output_type": "stream",
     "text": [
      "Using TensorFlow backend.\n"
     ]
    }
   ],
   "source": [
    "import os\n",
    "import keras\n",
    "\n",
    "# 請嘗試設定 GPU：os.environ\n",
    "os.environ[\"CUDA_VISIBLE_DEVICES\"] = \"0\""
   ]
  },
  {
   "cell_type": "code",
   "execution_count": 5,
   "metadata": {},
   "outputs": [],
   "source": [
    "train, test = keras.datasets.cifar10.load_data()"
   ]
  },
  {
   "cell_type": "code",
   "execution_count": 6,
   "metadata": {},
   "outputs": [],
   "source": [
    "## 資料前處理\n",
    "def preproc_x(x, flatten=True):\n",
    "    x = x / 255.\n",
    "    if flatten:\n",
    "        x = x.reshape((len(x), -1))\n",
    "    return x\n",
    "\n",
    "def preproc_y(y, num_classes=10):\n",
    "    if y.shape[-1] == 1:\n",
    "        y = keras.utils.to_categorical(y, num_classes)\n",
    "    return y    "
   ]
  },
  {
   "cell_type": "code",
   "execution_count": 7,
   "metadata": {},
   "outputs": [],
   "source": [
    "x_train, y_train = train\n",
    "x_test, y_test = test\n",
    "\n",
    "# Preproc the inputs\n",
    "x_train = preproc_x(x_train)\n",
    "x_test = preproc_x(x_test)\n",
    "\n",
    "# Preprc the outputs\n",
    "y_train = preproc_y(y_train)\n",
    "y_test = preproc_y(y_test)"
   ]
  },
  {
   "cell_type": "code",
   "execution_count": 8,
   "metadata": {},
   "outputs": [],
   "source": [
    "def build_mlp(input_shape, output_units=10, num_neurons=[512, 256, 128]):\n",
    "    input_layer = keras.layers.Input(input_shape)\n",
    "    \n",
    "    for i, n_units in enumerate(num_neurons):\n",
    "        if i == 0:\n",
    "            x = keras.layers.Dense(units=n_units, activation=\"relu\", name=\"hidden_layer\"+str(i+1))(input_layer)\n",
    "        else:\n",
    "            x = keras.layers.Dense(units=n_units, activation=\"relu\", name=\"hidden_layer\"+str(i+1))(x)\n",
    "    \n",
    "    out = keras.layers.Dense(units=output_units, activation=\"softmax\", name=\"output\")(x)\n",
    "    \n",
    "    model = keras.models.Model(inputs=[input_layer], outputs=[out])\n",
    "    return model"
   ]
  },
  {
   "cell_type": "code",
   "execution_count": 9,
   "metadata": {},
   "outputs": [
    {
     "name": "stderr",
     "output_type": "stream",
     "text": [
      "WARNING: Logging before flag parsing goes to stderr.\n",
      "W0712 01:49:17.188389   856 deprecation_wrapper.py:119] From C:\\ProgramData\\Anaconda3\\lib\\site-packages\\keras\\backend\\tensorflow_backend.py:74: The name tf.get_default_graph is deprecated. Please use tf.compat.v1.get_default_graph instead.\n",
      "\n",
      "W0712 01:49:17.236392   856 deprecation_wrapper.py:119] From C:\\ProgramData\\Anaconda3\\lib\\site-packages\\keras\\backend\\tensorflow_backend.py:517: The name tf.placeholder is deprecated. Please use tf.compat.v1.placeholder instead.\n",
      "\n",
      "W0712 01:49:17.246392   856 deprecation_wrapper.py:119] From C:\\ProgramData\\Anaconda3\\lib\\site-packages\\keras\\backend\\tensorflow_backend.py:4138: The name tf.random_uniform is deprecated. Please use tf.random.uniform instead.\n",
      "\n"
     ]
    },
    {
     "name": "stdout",
     "output_type": "stream",
     "text": [
      "_________________________________________________________________\n",
      "Layer (type)                 Output Shape              Param #   \n",
      "=================================================================\n",
      "input_1 (InputLayer)         (None, 3072)              0         \n",
      "_________________________________________________________________\n",
      "hidden_layer1 (Dense)        (None, 512)               1573376   \n",
      "_________________________________________________________________\n",
      "hidden_layer2 (Dense)        (None, 256)               131328    \n",
      "_________________________________________________________________\n",
      "hidden_layer3 (Dense)        (None, 128)               32896     \n",
      "_________________________________________________________________\n",
      "output (Dense)               (None, 10)                1290      \n",
      "=================================================================\n",
      "Total params: 1,738,890\n",
      "Trainable params: 1,738,890\n",
      "Non-trainable params: 0\n",
      "_________________________________________________________________\n"
     ]
    }
   ],
   "source": [
    "model = build_mlp(input_shape=x_train.shape[1:])\n",
    "model.summary()"
   ]
  },
  {
   "cell_type": "code",
   "execution_count": 10,
   "metadata": {},
   "outputs": [],
   "source": [
    "## 超參數設定\n",
    "LEARNING_RATE = 0.001\n",
    "EPOCHS = 100\n",
    "BATCH_SIZE = 256"
   ]
  },
  {
   "cell_type": "code",
   "execution_count": 11,
   "metadata": {},
   "outputs": [
    {
     "name": "stderr",
     "output_type": "stream",
     "text": [
      "W0712 01:49:20.824521   856 deprecation_wrapper.py:119] From C:\\ProgramData\\Anaconda3\\lib\\site-packages\\keras\\optimizers.py:790: The name tf.train.Optimizer is deprecated. Please use tf.compat.v1.train.Optimizer instead.\n",
      "\n",
      "W0712 01:49:20.838522   856 deprecation_wrapper.py:119] From C:\\ProgramData\\Anaconda3\\lib\\site-packages\\keras\\backend\\tensorflow_backend.py:3295: The name tf.log is deprecated. Please use tf.math.log instead.\n",
      "\n"
     ]
    }
   ],
   "source": [
    "optimizer = keras.optimizers.Adam(lr=LEARNING_RATE)\n",
    "model.compile(loss=\"categorical_crossentropy\", metrics=[\"accuracy\"], optimizer=optimizer)"
   ]
  },
  {
   "cell_type": "code",
   "execution_count": 12,
   "metadata": {},
   "outputs": [
    {
     "name": "stderr",
     "output_type": "stream",
     "text": [
      "W0712 01:49:22.125542   856 deprecation.py:323] From C:\\ProgramData\\Anaconda3\\lib\\site-packages\\tensorflow\\python\\ops\\math_grad.py:1250: add_dispatch_support.<locals>.wrapper (from tensorflow.python.ops.array_ops) is deprecated and will be removed in a future version.\n",
      "Instructions for updating:\n",
      "Use tf.where in 2.0, which has the same broadcast rule as np.where\n",
      "W0712 01:49:22.188545   856 deprecation_wrapper.py:119] From C:\\ProgramData\\Anaconda3\\lib\\site-packages\\keras\\backend\\tensorflow_backend.py:986: The name tf.assign_add is deprecated. Please use tf.compat.v1.assign_add instead.\n",
      "\n"
     ]
    },
    {
     "name": "stdout",
     "output_type": "stream",
     "text": [
      "Train on 50000 samples, validate on 10000 samples\n",
      "Epoch 1/100\n",
      "50000/50000 [==============================] - 9s 178us/step - loss: 1.9182 - acc: 0.3068 - val_loss: 1.7625 - val_acc: 0.3700\n",
      "Epoch 2/100\n",
      "50000/50000 [==============================] - 9s 179us/step - loss: 1.7151 - acc: 0.3853 - val_loss: 1.6609 - val_acc: 0.4086\n",
      "Epoch 3/100\n",
      "50000/50000 [==============================] - 9s 190us/step - loss: 1.6172 - acc: 0.4223 - val_loss: 1.6187 - val_acc: 0.4270\n",
      "Epoch 4/100\n",
      "50000/50000 [==============================] - 9s 189us/step - loss: 1.5582 - acc: 0.4448 - val_loss: 1.5975 - val_acc: 0.4315\n",
      "Epoch 5/100\n",
      "50000/50000 [==============================] - 9s 173us/step - loss: 1.5071 - acc: 0.4657 - val_loss: 1.5351 - val_acc: 0.4543\n",
      "Epoch 6/100\n",
      "50000/50000 [==============================] - 8s 168us/step - loss: 1.4686 - acc: 0.4765 - val_loss: 1.4823 - val_acc: 0.4732\n",
      "Epoch 7/100\n",
      "50000/50000 [==============================] - 9s 176us/step - loss: 1.4281 - acc: 0.4891 - val_loss: 1.4513 - val_acc: 0.4828\n",
      "Epoch 8/100\n",
      "50000/50000 [==============================] - 10s 202us/step - loss: 1.3994 - acc: 0.5019 - val_loss: 1.4171 - val_acc: 0.4960\n",
      "Epoch 9/100\n",
      "50000/50000 [==============================] - 9s 181us/step - loss: 1.3733 - acc: 0.5109 - val_loss: 1.5570 - val_acc: 0.4504\n",
      "Epoch 10/100\n",
      "50000/50000 [==============================] - 8s 167us/step - loss: 1.3549 - acc: 0.5180 - val_loss: 1.4098 - val_acc: 0.4960\n",
      "Epoch 11/100\n",
      "50000/50000 [==============================] - 8s 166us/step - loss: 1.3246 - acc: 0.5285 - val_loss: 1.3817 - val_acc: 0.5099\n",
      "Epoch 12/100\n",
      "50000/50000 [==============================] - 8s 167us/step - loss: 1.2945 - acc: 0.5377 - val_loss: 1.3944 - val_acc: 0.5085\n",
      "Epoch 13/100\n",
      "50000/50000 [==============================] - 9s 175us/step - loss: 1.2700 - acc: 0.5463 - val_loss: 1.3581 - val_acc: 0.5201\n",
      "Epoch 14/100\n",
      "50000/50000 [==============================] - 10s 203us/step - loss: 1.2551 - acc: 0.5535 - val_loss: 1.3888 - val_acc: 0.5117\n",
      "Epoch 15/100\n",
      "50000/50000 [==============================] - 15s 302us/step - loss: 1.2307 - acc: 0.5605 - val_loss: 1.3922 - val_acc: 0.5090\n",
      "Epoch 16/100\n",
      "50000/50000 [==============================] - 15s 295us/step - loss: 1.1977 - acc: 0.5755 - val_loss: 1.3422 - val_acc: 0.5265\n",
      "Epoch 17/100\n",
      "50000/50000 [==============================] - 15s 290us/step - loss: 1.1841 - acc: 0.5759 - val_loss: 1.3669 - val_acc: 0.5184\n",
      "Epoch 18/100\n",
      "50000/50000 [==============================] - 15s 301us/step - loss: 1.1623 - acc: 0.5863 - val_loss: 1.4070 - val_acc: 0.5126\n",
      "Epoch 19/100\n",
      "50000/50000 [==============================] - 14s 277us/step - loss: 1.1420 - acc: 0.5929 - val_loss: 1.3854 - val_acc: 0.5160\n",
      "Epoch 20/100\n",
      "50000/50000 [==============================] - 13s 264us/step - loss: 1.1250 - acc: 0.5989 - val_loss: 1.3617 - val_acc: 0.5209\n",
      "Epoch 21/100\n",
      "50000/50000 [==============================] - 13s 263us/step - loss: 1.0963 - acc: 0.6094 - val_loss: 1.3504 - val_acc: 0.5294\n",
      "Epoch 22/100\n",
      "50000/50000 [==============================] - 13s 270us/step - loss: 1.0829 - acc: 0.6132 - val_loss: 1.3830 - val_acc: 0.5208\n",
      "Epoch 23/100\n",
      "50000/50000 [==============================] - 14s 277us/step - loss: 1.0593 - acc: 0.6227 - val_loss: 1.4023 - val_acc: 0.5125\n",
      "Epoch 24/100\n",
      "50000/50000 [==============================] - 14s 274us/step - loss: 1.0404 - acc: 0.6293 - val_loss: 1.3968 - val_acc: 0.5201\n",
      "Epoch 25/100\n",
      "50000/50000 [==============================] - 14s 274us/step - loss: 1.0220 - acc: 0.6364 - val_loss: 1.4095 - val_acc: 0.5200\n",
      "Epoch 26/100\n",
      "50000/50000 [==============================] - 14s 271us/step - loss: 1.0101 - acc: 0.6386 - val_loss: 1.4319 - val_acc: 0.5130\n",
      "Epoch 27/100\n",
      "50000/50000 [==============================] - 13s 265us/step - loss: 0.9889 - acc: 0.6460 - val_loss: 1.4236 - val_acc: 0.5214\n",
      "Epoch 28/100\n",
      "50000/50000 [==============================] - 13s 262us/step - loss: 0.9648 - acc: 0.6551 - val_loss: 1.4047 - val_acc: 0.5266\n",
      "Epoch 29/100\n",
      "50000/50000 [==============================] - 13s 269us/step - loss: 0.9534 - acc: 0.6586 - val_loss: 1.4464 - val_acc: 0.5187\n",
      "Epoch 30/100\n",
      "50000/50000 [==============================] - 13s 263us/step - loss: 0.9326 - acc: 0.6651 - val_loss: 1.3981 - val_acc: 0.5378\n",
      "Epoch 31/100\n",
      "50000/50000 [==============================] - 13s 262us/step - loss: 0.9257 - acc: 0.6641 - val_loss: 1.4231 - val_acc: 0.5271\n",
      "Epoch 32/100\n",
      "50000/50000 [==============================] - 13s 264us/step - loss: 0.8905 - acc: 0.6807 - val_loss: 1.4687 - val_acc: 0.5257\n",
      "Epoch 33/100\n",
      "50000/50000 [==============================] - 13s 263us/step - loss: 0.8973 - acc: 0.6765 - val_loss: 1.4996 - val_acc: 0.5164\n",
      "Epoch 34/100\n",
      "50000/50000 [==============================] - 15s 291us/step - loss: 0.8588 - acc: 0.6921 - val_loss: 1.4805 - val_acc: 0.5234\n",
      "Epoch 35/100\n",
      "50000/50000 [==============================] - 15s 296us/step - loss: 0.8582 - acc: 0.6926 - val_loss: 1.4561 - val_acc: 0.5250\n",
      "Epoch 36/100\n",
      "50000/50000 [==============================] - 13s 265us/step - loss: 0.8361 - acc: 0.7005 - val_loss: 1.5257 - val_acc: 0.5231\n",
      "Epoch 37/100\n",
      "50000/50000 [==============================] - 13s 269us/step - loss: 0.8304 - acc: 0.7022 - val_loss: 1.5468 - val_acc: 0.52010.8305 - acc: 0.70\n",
      "Epoch 38/100\n",
      "50000/50000 [==============================] - 13s 263us/step - loss: 0.8101 - acc: 0.7098 - val_loss: 1.5194 - val_acc: 0.5233\n",
      "Epoch 39/100\n",
      "50000/50000 [==============================] - 14s 275us/step - loss: 0.7900 - acc: 0.7173 - val_loss: 1.5470 - val_acc: 0.5234\n",
      "Epoch 40/100\n",
      "50000/50000 [==============================] - 14s 283us/step - loss: 0.7658 - acc: 0.7247 - val_loss: 1.5738 - val_acc: 0.5299\n",
      "Epoch 41/100\n",
      "50000/50000 [==============================] - 13s 266us/step - loss: 0.7652 - acc: 0.7234 - val_loss: 1.5658 - val_acc: 0.5286\n",
      "Epoch 42/100\n",
      "50000/50000 [==============================] - 13s 264us/step - loss: 0.7427 - acc: 0.7318 - val_loss: 1.6098 - val_acc: 0.5249\n",
      "Epoch 43/100\n",
      "50000/50000 [==============================] - 13s 268us/step - loss: 0.7245 - acc: 0.7411 - val_loss: 1.6401 - val_acc: 0.5265\n",
      "Epoch 44/100\n",
      "50000/50000 [==============================] - 13s 264us/step - loss: 0.7259 - acc: 0.7390 - val_loss: 1.5985 - val_acc: 0.5315\n",
      "Epoch 45/100\n",
      "50000/50000 [==============================] - 13s 266us/step - loss: 0.7096 - acc: 0.7461 - val_loss: 1.6736 - val_acc: 0.5221\n",
      "Epoch 46/100\n",
      "50000/50000 [==============================] - 13s 269us/step - loss: 0.6915 - acc: 0.7523 - val_loss: 1.6916 - val_acc: 0.5243\n",
      "Epoch 47/100\n",
      "50000/50000 [==============================] - 13s 263us/step - loss: 0.6656 - acc: 0.7625 - val_loss: 1.7293 - val_acc: 0.5228\n",
      "Epoch 48/100\n",
      "50000/50000 [==============================] - 13s 269us/step - loss: 0.6621 - acc: 0.7623 - val_loss: 1.7466 - val_acc: 0.5215\n",
      "Epoch 49/100\n",
      "50000/50000 [==============================] - 13s 268us/step - loss: 0.6488 - acc: 0.7656 - val_loss: 1.7747 - val_acc: 0.5224\n",
      "Epoch 50/100\n",
      "50000/50000 [==============================] - 13s 264us/step - loss: 0.6303 - acc: 0.7742 - val_loss: 1.8728 - val_acc: 0.5172\n",
      "Epoch 51/100\n",
      "50000/50000 [==============================] - 13s 267us/step - loss: 0.6160 - acc: 0.7793 - val_loss: 1.7720 - val_acc: 0.5206\n",
      "Epoch 52/100\n",
      "50000/50000 [==============================] - 13s 266us/step - loss: 0.6165 - acc: 0.7786 - val_loss: 1.8113 - val_acc: 0.5201\n",
      "Epoch 53/100\n",
      "50000/50000 [==============================] - 14s 271us/step - loss: 0.5958 - acc: 0.7867 - val_loss: 1.8058 - val_acc: 0.5201\n",
      "Epoch 54/100\n",
      "50000/50000 [==============================] - 13s 268us/step - loss: 0.5858 - acc: 0.7912 - val_loss: 1.8823 - val_acc: 0.5174\n",
      "Epoch 55/100\n",
      "50000/50000 [==============================] - 13s 268us/step - loss: 0.5761 - acc: 0.7945 - val_loss: 1.9081 - val_acc: 0.5189\n",
      "Epoch 56/100\n",
      "50000/50000 [==============================] - 13s 268us/step - loss: 0.5639 - acc: 0.7972 - val_loss: 1.9679 - val_acc: 0.5096\n",
      "Epoch 57/100\n",
      "50000/50000 [==============================] - 13s 262us/step - loss: 0.5680 - acc: 0.7954 - val_loss: 2.0056 - val_acc: 0.5210\n",
      "Epoch 58/100\n"
     ]
    },
    {
     "name": "stdout",
     "output_type": "stream",
     "text": [
      "50000/50000 [==============================] - 13s 256us/step - loss: 0.5515 - acc: 0.8023 - val_loss: 2.0151 - val_acc: 0.5132\n",
      "Epoch 59/100\n",
      "50000/50000 [==============================] - 13s 253us/step - loss: 0.5370 - acc: 0.8088 - val_loss: 1.9648 - val_acc: 0.5163\n",
      "Epoch 60/100\n",
      "50000/50000 [==============================] - 13s 255us/step - loss: 0.5126 - acc: 0.8166 - val_loss: 2.0883 - val_acc: 0.5142\n",
      "Epoch 61/100\n",
      "50000/50000 [==============================] - 14s 270us/step - loss: 0.5239 - acc: 0.8111 - val_loss: 2.0682 - val_acc: 0.5138\n",
      "Epoch 62/100\n",
      "50000/50000 [==============================] - 15s 304us/step - loss: 0.5015 - acc: 0.8214 - val_loss: 2.0917 - val_acc: 0.5163\n",
      "Epoch 63/100\n",
      "50000/50000 [==============================] - 14s 287us/step - loss: 0.5025 - acc: 0.8192 - val_loss: 2.0965 - val_acc: 0.5148\n",
      "Epoch 64/100\n",
      "50000/50000 [==============================] - 13s 258us/step - loss: 0.4880 - acc: 0.8253 - val_loss: 2.1736 - val_acc: 0.5081\n",
      "Epoch 65/100\n",
      "50000/50000 [==============================] - 17s 332us/step - loss: 0.4781 - acc: 0.8271 - val_loss: 2.2164 - val_acc: 0.5014\n",
      "Epoch 66/100\n",
      "50000/50000 [==============================] - 17s 343us/step - loss: 0.4821 - acc: 0.8267 - val_loss: 2.2302 - val_acc: 0.5049\n",
      "Epoch 67/100\n",
      "50000/50000 [==============================] - 18s 350us/step - loss: 0.4687 - acc: 0.8329 - val_loss: 2.2186 - val_acc: 0.5080\n",
      "Epoch 68/100\n",
      "50000/50000 [==============================] - 17s 350us/step - loss: 0.4540 - acc: 0.8374 - val_loss: 2.2544 - val_acc: 0.5030\n",
      "Epoch 69/100\n",
      "50000/50000 [==============================] - 17s 348us/step - loss: 0.4592 - acc: 0.8357 - val_loss: 2.3164 - val_acc: 0.5111\n",
      "Epoch 70/100\n",
      "50000/50000 [==============================] - 17s 350us/step - loss: 0.4378 - acc: 0.8424 - val_loss: 2.3238 - val_acc: 0.5119\n",
      "Epoch 71/100\n",
      "50000/50000 [==============================] - 17s 350us/step - loss: 0.4358 - acc: 0.8444 - val_loss: 2.3334 - val_acc: 0.5114\n",
      "Epoch 72/100\n",
      "50000/50000 [==============================] - 17s 345us/step - loss: 0.4238 - acc: 0.8471 - val_loss: 2.4025 - val_acc: 0.5087\n",
      "Epoch 73/100\n",
      "50000/50000 [==============================] - 18s 357us/step - loss: 0.4371 - acc: 0.8436 - val_loss: 2.3966 - val_acc: 0.5058\n",
      "Epoch 74/100\n",
      "50000/50000 [==============================] - 18s 363us/step - loss: 0.4097 - acc: 0.8536 - val_loss: 2.4342 - val_acc: 0.5060\n",
      "Epoch 75/100\n",
      "50000/50000 [==============================] - 19s 374us/step - loss: 0.4094 - acc: 0.8527 - val_loss: 2.3907 - val_acc: 0.5130\n",
      "Epoch 76/100\n",
      "50000/50000 [==============================] - 21s 422us/step - loss: 0.3902 - acc: 0.8595 - val_loss: 2.4981 - val_acc: 0.5036\n",
      "Epoch 77/100\n",
      "50000/50000 [==============================] - 20s 391us/step - loss: 0.4092 - acc: 0.8535 - val_loss: 2.5116 - val_acc: 0.5089\n",
      "Epoch 78/100\n",
      "50000/50000 [==============================] - 20s 394us/step - loss: 0.3827 - acc: 0.8621 - val_loss: 2.4739 - val_acc: 0.5075\n",
      "Epoch 79/100\n",
      "50000/50000 [==============================] - 19s 387us/step - loss: 0.3952 - acc: 0.8578 - val_loss: 2.4858 - val_acc: 0.5092\n",
      "Epoch 80/100\n",
      "50000/50000 [==============================] - 19s 388us/step - loss: 0.3858 - acc: 0.8595 - val_loss: 2.5930 - val_acc: 0.5056\n",
      "Epoch 81/100\n",
      "50000/50000 [==============================] - 19s 388us/step - loss: 0.3726 - acc: 0.8658 - val_loss: 2.7192 - val_acc: 0.4967\n",
      "Epoch 82/100\n",
      "50000/50000 [==============================] - 19s 388us/step - loss: 0.3791 - acc: 0.8648 - val_loss: 2.6124 - val_acc: 0.5009\n",
      "Epoch 83/100\n",
      "50000/50000 [==============================] - 17s 340us/step - loss: 0.3547 - acc: 0.8731 - val_loss: 2.6753 - val_acc: 0.5123\n",
      "Epoch 84/100\n",
      "50000/50000 [==============================] - 14s 283us/step - loss: 0.3475 - acc: 0.8762 - val_loss: 2.7371 - val_acc: 0.4965\n",
      "Epoch 85/100\n",
      "50000/50000 [==============================] - 14s 289us/step - loss: 0.3381 - acc: 0.8795 - val_loss: 2.7314 - val_acc: 0.5079\n",
      "Epoch 86/100\n",
      "50000/50000 [==============================] - 14s 282us/step - loss: 0.3474 - acc: 0.8744 - val_loss: 2.7787 - val_acc: 0.4960\n",
      "Epoch 87/100\n",
      "50000/50000 [==============================] - 14s 280us/step - loss: 0.3527 - acc: 0.8746 - val_loss: 2.7822 - val_acc: 0.5094\n",
      "Epoch 88/100\n",
      "50000/50000 [==============================] - 14s 280us/step - loss: 0.3442 - acc: 0.8785 - val_loss: 2.8168 - val_acc: 0.5015\n",
      "Epoch 89/100\n",
      "50000/50000 [==============================] - 14s 280us/step - loss: 0.3210 - acc: 0.8856 - val_loss: 2.8042 - val_acc: 0.5037\n",
      "Epoch 90/100\n",
      "50000/50000 [==============================] - 14s 280us/step - loss: 0.3121 - acc: 0.8890 - val_loss: 2.8679 - val_acc: 0.5034\n",
      "Epoch 91/100\n",
      "50000/50000 [==============================] - 14s 276us/step - loss: 0.3262 - acc: 0.8835 - val_loss: 2.8239 - val_acc: 0.5025\n",
      "Epoch 92/100\n",
      "50000/50000 [==============================] - 14s 281us/step - loss: 0.3414 - acc: 0.8772 - val_loss: 2.8295 - val_acc: 0.5108\n",
      "Epoch 93/100\n",
      "50000/50000 [==============================] - 14s 276us/step - loss: 0.3461 - acc: 0.8749 - val_loss: 2.9340 - val_acc: 0.4988\n",
      "Epoch 94/100\n",
      "50000/50000 [==============================] - 14s 277us/step - loss: 0.3008 - acc: 0.8919 - val_loss: 2.9679 - val_acc: 0.5022\n",
      "Epoch 95/100\n",
      "50000/50000 [==============================] - 14s 275us/step - loss: 0.3268 - acc: 0.8830 - val_loss: 2.9145 - val_acc: 0.5045\n",
      "Epoch 96/100\n",
      "50000/50000 [==============================] - 14s 273us/step - loss: 0.3248 - acc: 0.8830 - val_loss: 2.9771 - val_acc: 0.5055\n",
      "Epoch 97/100\n",
      "50000/50000 [==============================] - 14s 274us/step - loss: 0.3035 - acc: 0.8912 - val_loss: 2.9919 - val_acc: 0.5039\n",
      "Epoch 98/100\n",
      "50000/50000 [==============================] - 14s 273us/step - loss: 0.2989 - acc: 0.8924 - val_loss: 2.9908 - val_acc: 0.5013\n",
      "Epoch 99/100\n",
      "50000/50000 [==============================] - 14s 277us/step - loss: 0.2876 - acc: 0.8974 - val_loss: 3.0565 - val_acc: 0.5092\n",
      "Epoch 100/100\n",
      "50000/50000 [==============================] - 14s 273us/step - loss: 0.2908 - acc: 0.8978 - val_loss: 3.1461 - val_acc: 0.4935\n"
     ]
    },
    {
     "data": {
      "text/plain": [
       "<keras.callbacks.History at 0x1968cb70>"
      ]
     },
     "execution_count": 12,
     "metadata": {},
     "output_type": "execute_result"
    }
   ],
   "source": [
    "model.fit(x_train, y_train, \n",
    "          epochs=EPOCHS, \n",
    "          batch_size=BATCH_SIZE, \n",
    "          validation_data=(x_test, y_test), \n",
    "          shuffle=True)"
   ]
  },
  {
   "cell_type": "code",
   "execution_count": 14,
   "metadata": {},
   "outputs": [
    {
     "data": {
      "image/png": "[encoded data removed]",
      "text/plain": [
       "<Figure size 432x288 with 1 Axes>"
      ]
     },
     "metadata": {
      "needs_background": "light"
     },
     "output_type": "display_data"
    },
    {
     "data": {
      "image/png": "[encoded data removed]",
      "text/plain": [
       "<Figure size 432x288 with 1 Axes>"
      ]
     },
     "metadata": {
      "needs_background": "light"
     },
     "output_type": "display_data"
    }
   ],
   "source": [
    "import matplotlib.pyplot as plt\n",
    "\n",
    "\n",
    "train_loss = model.history.history[\"loss\"]\n",
    "valid_loss = model.history.history[\"val_loss\"]\n",
    "\n",
    "train_acc = model.history.history[\"acc\"]\n",
    "valid_acc = model.history.history[\"val_acc\"]\n",
    "\n",
    "plt.plot(range(len(train_loss)), train_loss, label=\"train loss\")\n",
    "plt.plot(range(len(valid_loss)), valid_loss, label=\"valid loss\")\n",
    "plt.legend()\n",
    "plt.title(\"Loss\")\n",
    "plt.show()\n",
    "\n",
    "plt.plot(range(len(train_acc)), train_acc, label=\"train accuracy\")\n",
    "plt.plot(range(len(valid_acc)), valid_acc, label=\"valid accuracy\")\n",
    "plt.legend()\n",
    "plt.title(\"Accuracy\")\n",
    "plt.show()"
   ]
  },
  {
   "cell_type": "code",
   "execution_count": null,
   "metadata": {},
   "outputs": [],
   "source": []
  }
 ],
 "metadata": {
  "kernelspec": {
   "display_name": "Python 3",
   "language": "python",
   "name": "python3"
  },
  "language_info": {
   "codemirror_mode": {
    "name": "ipython",
    "version": 3
   },
   "file_extension": ".py",
   "mimetype": "text/x-python",
   "name": "python",
   "nbconvert_exporter": "python",
   "pygments_lexer": "ipython3",
   "version": "3.7.3"
  }
 },
 "nbformat": 4,
 "nbformat_minor": 2
}
