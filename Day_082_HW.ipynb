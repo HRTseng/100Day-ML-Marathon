{
 "cells": [
  {
   "cell_type": "markdown",
   "metadata": {},
   "source": [
    "## Work\n",
    "1. 請比較使用不同層數以及不同 Dropout rate 對訓練的效果\n",
    "2. 將 optimizer 改成使用 Adam 並加上適當的 dropout rate 檢視結果"
   ]
  },
  {
   "cell_type": "code",
   "execution_count": 1,
   "metadata": {},
   "outputs": [
    {
     "name": "stderr",
     "output_type": "stream",
     "text": [
      "Using TensorFlow backend.\n"
     ]
    }
   ],
   "source": [
    "import os\n",
    "import keras\n",
    "import itertools\n",
    "# Disable GPU\n",
    "os.environ[\"CUDA_VISIBLE_DEVICES\"] = \"0\""
   ]
  },
  {
   "cell_type": "code",
   "execution_count": 2,
   "metadata": {},
   "outputs": [],
   "source": [
    "train, test = keras.datasets.cifar10.load_data()"
   ]
  },
  {
   "cell_type": "code",
   "execution_count": 3,
   "metadata": {},
   "outputs": [],
   "source": [
    "## 資料前處理\n",
    "def preproc_x(x, flatten=True):\n",
    "    x = x / 255.\n",
    "    if flatten:\n",
    "        x = x.reshape((len(x), -1))\n",
    "    return x\n",
    "\n",
    "def preproc_y(y, num_classes=10):\n",
    "    if y.shape[-1] == 1:\n",
    "        y = keras.utils.to_categorical(y, num_classes)\n",
    "    return y    "
   ]
  },
  {
   "cell_type": "code",
   "execution_count": 4,
   "metadata": {},
   "outputs": [],
   "source": [
    "x_train, y_train = train\n",
    "x_test, y_test = test\n",
    "\n",
    "# Preproc the inputs\n",
    "x_train = preproc_x(x_train)\n",
    "x_test = preproc_x(x_test)\n",
    "\n",
    "# Preprc the outputs\n",
    "y_train = preproc_y(y_train)\n",
    "y_test = preproc_y(y_test)"
   ]
  },
  {
   "cell_type": "code",
   "execution_count": 5,
   "metadata": {},
   "outputs": [],
   "source": [
    "from keras.layers import Dropout\n",
    "\n",
    "\"\"\"\n",
    "建立神經網路，並加入 dropout layer\n",
    "\"\"\"\n",
    "def build_mlp(input_shape, output_units=10, num_neurons=[512, 256, 128], drp_ratio=0.2):\n",
    "    input_layer = keras.layers.Input(input_shape)\n",
    "    \n",
    "    for i, n_units in enumerate(num_neurons):\n",
    "        if i == 0:\n",
    "            x = keras.layers.Dense(units=n_units, \n",
    "                                   activation=\"relu\", \n",
    "                                   name=\"hidden_layer\"+str(i+1))(input_layer)\n",
    "            x = Dropout(drp_ratio)(x)\n",
    "        else:\n",
    "            x = keras.layers.Dense(units=n_units, \n",
    "                                   activation=\"relu\", \n",
    "                                   name=\"hidden_layer\"+str(i+1))(x)\n",
    "            x = Dropout(drp_ratio)(x)\n",
    "    \n",
    "    out = keras.layers.Dense(units=output_units, activation=\"softmax\", name=\"output\")(x)\n",
    "    \n",
    "    model = keras.models.Model(inputs=[input_layer], outputs=[out])\n",
    "    return model"
   ]
  },
  {
   "cell_type": "code",
   "execution_count": 7,
   "metadata": {},
   "outputs": [],
   "source": [
    "## 超參數設定\n",
    "LEARNING_RATE = 1e-3\n",
    "EPOCHS = 50\n",
    "BATCH_SIZE = 256\n",
    "MOMENTUM = 0.95\n",
    "Dropout_EXP = 0.25"
   ]
  },
  {
   "cell_type": "code",
   "execution_count": 9,
   "metadata": {
    "scrolled": true
   },
   "outputs": [
    {
     "name": "stdout",
     "output_type": "stream",
     "text": [
      "_________________________________________________________________\n",
      "Layer (type)                 Output Shape              Param #   \n",
      "=================================================================\n",
      "input_2 (InputLayer)         (None, 3072)              0         \n",
      "_________________________________________________________________\n",
      "hidden_layer1 (Dense)        (None, 512)               1573376   \n",
      "_________________________________________________________________\n",
      "dropout_4 (Dropout)          (None, 512)               0         \n",
      "_________________________________________________________________\n",
      "hidden_layer2 (Dense)        (None, 256)               131328    \n",
      "_________________________________________________________________\n",
      "dropout_5 (Dropout)          (None, 256)               0         \n",
      "_________________________________________________________________\n",
      "hidden_layer3 (Dense)        (None, 128)               32896     \n",
      "_________________________________________________________________\n",
      "dropout_6 (Dropout)          (None, 128)               0         \n",
      "_________________________________________________________________\n",
      "output (Dense)               (None, 10)                1290      \n",
      "=================================================================\n",
      "Total params: 1,738,890\n",
      "Trainable params: 1,738,890\n",
      "Non-trainable params: 0\n",
      "_________________________________________________________________\n",
      "Train on 50000 samples, validate on 10000 samples\n",
      "Epoch 1/50\n",
      "50000/50000 [==============================] - 10s 204us/step - loss: 2.0847 - acc: 0.2281 - val_loss: 1.8387 - val_acc: 0.3475\n",
      "Epoch 2/50\n",
      "50000/50000 [==============================] - 10s 193us/step - loss: 1.8899 - acc: 0.3111 - val_loss: 1.7966 - val_acc: 0.3575\n",
      "Epoch 3/50\n",
      "50000/50000 [==============================] - 10s 205us/step - loss: 1.8423 - acc: 0.3247 - val_loss: 1.7670 - val_acc: 0.3821\n",
      "Epoch 4/50\n",
      "50000/50000 [==============================] - 10s 196us/step - loss: 1.8027 - acc: 0.3449 - val_loss: 1.7010 - val_acc: 0.4042\n",
      "Epoch 5/50\n",
      "50000/50000 [==============================] - 9s 189us/step - loss: 1.7646 - acc: 0.3608 - val_loss: 1.6783 - val_acc: 0.4154\n",
      "Epoch 6/50\n",
      "50000/50000 [==============================] - 10s 192us/step - loss: 1.7461 - acc: 0.3683 - val_loss: 1.6530 - val_acc: 0.4207\n",
      "Epoch 7/50\n",
      "50000/50000 [==============================] - 10s 198us/step - loss: 1.7359 - acc: 0.3715 - val_loss: 1.6662 - val_acc: 0.4197\n",
      "Epoch 8/50\n",
      "50000/50000 [==============================] - 10s 193us/step - loss: 1.7166 - acc: 0.3808 - val_loss: 1.6247 - val_acc: 0.4367\n",
      "Epoch 9/50\n",
      "50000/50000 [==============================] - 10s 194us/step - loss: 1.6987 - acc: 0.3852 - val_loss: 1.6204 - val_acc: 0.4265\n",
      "Epoch 10/50\n",
      "50000/50000 [==============================] - 10s 191us/step - loss: 1.6905 - acc: 0.3866 - val_loss: 1.6140 - val_acc: 0.4286\n",
      "Epoch 11/50\n",
      "50000/50000 [==============================] - 10s 194us/step - loss: 1.6750 - acc: 0.3948 - val_loss: 1.6188 - val_acc: 0.4346\n",
      "Epoch 12/50\n",
      "50000/50000 [==============================] - 10s 202us/step - loss: 1.6696 - acc: 0.3937 - val_loss: 1.6118 - val_acc: 0.4353\n",
      "Epoch 13/50\n",
      "50000/50000 [==============================] - 9s 189us/step - loss: 1.6597 - acc: 0.4010 - val_loss: 1.5955 - val_acc: 0.4414\n",
      "Epoch 14/50\n",
      "50000/50000 [==============================] - 9s 189us/step - loss: 1.6500 - acc: 0.4034 - val_loss: 1.5911 - val_acc: 0.4438\n",
      "Epoch 15/50\n",
      "50000/50000 [==============================] - 9s 188us/step - loss: 1.6481 - acc: 0.4045 - val_loss: 1.5587 - val_acc: 0.4488\n",
      "Epoch 16/50\n",
      "50000/50000 [==============================] - 9s 186us/step - loss: 1.6451 - acc: 0.4037 - val_loss: 1.5725 - val_acc: 0.4428\n",
      "Epoch 17/50\n",
      "50000/50000 [==============================] - 9s 187us/step - loss: 1.6344 - acc: 0.4126 - val_loss: 1.5377 - val_acc: 0.4539\n",
      "Epoch 18/50\n",
      "50000/50000 [==============================] - 9s 186us/step - loss: 1.6393 - acc: 0.4094 - val_loss: 1.5781 - val_acc: 0.4457\n",
      "Epoch 19/50\n",
      "50000/50000 [==============================] - 9s 186us/step - loss: 1.6264 - acc: 0.4170 - val_loss: 1.5822 - val_acc: 0.4390\n",
      "Epoch 20/50\n",
      "50000/50000 [==============================] - 9s 187us/step - loss: 1.6197 - acc: 0.4179 - val_loss: 1.5636 - val_acc: 0.4500\n",
      "Epoch 21/50\n",
      "50000/50000 [==============================] - 9s 188us/step - loss: 1.6233 - acc: 0.4150 - val_loss: 1.5659 - val_acc: 0.4503\n",
      "Epoch 22/50\n",
      "50000/50000 [==============================] - 9s 186us/step - loss: 1.6163 - acc: 0.4151 - val_loss: 1.5463 - val_acc: 0.4516\n",
      "Epoch 23/50\n",
      "50000/50000 [==============================] - 9s 187us/step - loss: 1.6047 - acc: 0.4204 - val_loss: 1.5344 - val_acc: 0.4603\n",
      "Epoch 24/50\n",
      "50000/50000 [==============================] - 10s 190us/step - loss: 1.6105 - acc: 0.4209 - val_loss: 1.5845 - val_acc: 0.4424\n",
      "Epoch 25/50\n",
      "50000/50000 [==============================] - 9s 187us/step - loss: 1.5980 - acc: 0.4251 - val_loss: 1.5246 - val_acc: 0.4590\n",
      "Epoch 26/50\n",
      "50000/50000 [==============================] - 9s 188us/step - loss: 1.5941 - acc: 0.4249 - val_loss: 1.5257 - val_acc: 0.4660\n",
      "Epoch 27/50\n",
      "50000/50000 [==============================] - 9s 186us/step - loss: 1.5923 - acc: 0.4260 - val_loss: 1.5373 - val_acc: 0.4555\n",
      "Epoch 28/50\n",
      "50000/50000 [==============================] - 9s 186us/step - loss: 1.5818 - acc: 0.4318 - val_loss: 1.5059 - val_acc: 0.4695\n",
      "Epoch 29/50\n",
      "50000/50000 [==============================] - 9s 186us/step - loss: 1.5834 - acc: 0.4313 - val_loss: 1.5031 - val_acc: 0.4651\n",
      "Epoch 30/50\n",
      "50000/50000 [==============================] - 9s 188us/step - loss: 1.5881 - acc: 0.4293 - val_loss: 1.5485 - val_acc: 0.4495\n",
      "Epoch 31/50\n",
      "50000/50000 [==============================] - 9s 187us/step - loss: 1.5796 - acc: 0.4309 - val_loss: 1.5325 - val_acc: 0.4552\n",
      "Epoch 32/50\n",
      "50000/50000 [==============================] - 9s 186us/step - loss: 1.5762 - acc: 0.4327 - val_loss: 1.5096 - val_acc: 0.4684\n",
      "Epoch 33/50\n",
      "50000/50000 [==============================] - 9s 188us/step - loss: 1.5729 - acc: 0.4346 - val_loss: 1.5336 - val_acc: 0.4599\n",
      "Epoch 34/50\n",
      "50000/50000 [==============================] - 9s 188us/step - loss: 1.5683 - acc: 0.4350 - val_loss: 1.5062 - val_acc: 0.4718\n",
      "Epoch 35/50\n",
      "50000/50000 [==============================] - 9s 186us/step - loss: 1.5719 - acc: 0.4319 - val_loss: 1.5197 - val_acc: 0.4572\n",
      "Epoch 36/50\n",
      "50000/50000 [==============================] - 9s 186us/step - loss: 1.5608 - acc: 0.4383 - val_loss: 1.5094 - val_acc: 0.4654\n",
      "Epoch 37/50\n",
      "50000/50000 [==============================] - 9s 188us/step - loss: 1.5707 - acc: 0.4323 - val_loss: 1.5306 - val_acc: 0.4662\n",
      "Epoch 38/50\n",
      "50000/50000 [==============================] - 10s 192us/step - loss: 1.5597 - acc: 0.4429 - val_loss: 1.5226 - val_acc: 0.4552\n",
      "Epoch 39/50\n",
      "50000/50000 [==============================] - 9s 187us/step - loss: 1.5639 - acc: 0.4390 - val_loss: 1.5162 - val_acc: 0.4682\n",
      "Epoch 40/50\n",
      "50000/50000 [==============================] - 9s 187us/step - loss: 1.5534 - acc: 0.4417 - val_loss: 1.5373 - val_acc: 0.4468\n",
      "Epoch 41/50\n",
      "50000/50000 [==============================] - 10s 197us/step - loss: 1.5594 - acc: 0.4400 - val_loss: 1.5089 - val_acc: 0.4671\n",
      "Epoch 42/50\n",
      "50000/50000 [==============================] - 10s 198us/step - loss: 1.5521 - acc: 0.4439 - val_loss: 1.4965 - val_acc: 0.4719\n",
      "Epoch 43/50\n",
      "50000/50000 [==============================] - 10s 190us/step - loss: 1.5430 - acc: 0.4458 - val_loss: 1.5044 - val_acc: 0.4679\n",
      "Epoch 44/50\n",
      "50000/50000 [==============================] - 10s 200us/step - loss: 1.5457 - acc: 0.4457 - val_loss: 1.5109 - val_acc: 0.4626\n",
      "Epoch 45/50\n",
      "50000/50000 [==============================] - 10s 194us/step - loss: 1.5420 - acc: 0.4451 - val_loss: 1.5052 - val_acc: 0.4607\n",
      "Epoch 46/50\n",
      "50000/50000 [==============================] - 9s 189us/step - loss: 1.5441 - acc: 0.4467 - val_loss: 1.5006 - val_acc: 0.4632\n",
      "Epoch 47/50\n",
      "50000/50000 [==============================] - 10s 193us/step - loss: 1.5387 - acc: 0.4478 - val_loss: 1.4735 - val_acc: 0.4839\n",
      "Epoch 48/50\n",
      "50000/50000 [==============================] - 10s 195us/step - loss: 1.5309 - acc: 0.4508 - val_loss: 1.4940 - val_acc: 0.4709\n",
      "Epoch 49/50\n"
     ]
    },
    {
     "name": "stdout",
     "output_type": "stream",
     "text": [
      "50000/50000 [==============================] - 10s 206us/step - loss: 1.5372 - acc: 0.4496 - val_loss: 1.5001 - val_acc: 0.4749\n",
      "Epoch 50/50\n",
      "50000/50000 [==============================] - 10s 199us/step - loss: 1.5398 - acc: 0.4482 - val_loss: 1.4960 - val_acc: 0.4752\n"
     ]
    }
   ],
   "source": [
    "model = build_mlp(input_shape=x_train.shape[1:], drp_ratio=Dropout_EXP)\n",
    "model.summary()\n",
    "optimizer = keras.optimizers.Adam(lr=LEARNING_RATE)\n",
    "model.compile(loss=\"categorical_crossentropy\", metrics=[\"accuracy\"], optimizer=optimizer)\n",
    "\n",
    "model.fit(x_train, y_train, \n",
    "          epochs=EPOCHS, \n",
    "          batch_size=BATCH_SIZE, \n",
    "          validation_data=(x_test, y_test), \n",
    "          shuffle=True)\n",
    "\n",
    "# Collect results\n",
    "train_loss = model.history.history[\"loss\"]\n",
    "valid_loss = model.history.history[\"val_loss\"]\n",
    "train_acc = model.history.history[\"acc\"]\n",
    "valid_acc = model.history.history[\"val_acc\"]"
   ]
  },
  {
   "cell_type": "code",
   "execution_count": 10,
   "metadata": {},
   "outputs": [
    {
     "data": {
      "image/png": "[encoded data removed]",
      "text/plain": [
       "<Figure size 432x288 with 1 Axes>"
      ]
     },
     "metadata": {
      "needs_background": "light"
     },
     "output_type": "display_data"
    },
    {
     "data": {
      "image/png": "[encoded data removed]",
      "text/plain": [
       "<Figure size 432x288 with 1 Axes>"
      ]
     },
     "metadata": {
      "needs_background": "light"
     },
     "output_type": "display_data"
    }
   ],
   "source": [
    "import matplotlib.pyplot as plt\n",
    "%matplotlib inline\n",
    "\n",
    "plt.plot(range(len(train_loss)), train_loss, label=\"train loss\")\n",
    "plt.plot(range(len(valid_loss)), valid_loss, label=\"valid loss\")\n",
    "plt.legend()\n",
    "plt.title(\"Loss\")\n",
    "plt.show()\n",
    "\n",
    "plt.plot(range(len(train_acc)), train_acc, label=\"train accuracy\")\n",
    "plt.plot(range(len(valid_acc)), valid_acc, label=\"valid accuracy\")\n",
    "plt.legend()\n",
    "plt.title(\"Accuracy\")\n",
    "plt.show()"
   ]
  },
  {
   "cell_type": "code",
   "execution_count": null,
   "metadata": {},
   "outputs": [],
   "source": []
  }
 ],
 "metadata": {
  "kernelspec": {
   "display_name": "Python 3",
   "language": "python",
   "name": "python3"
  },
  "language_info": {
   "codemirror_mode": {
    "name": "ipython",
    "version": 3
   },
   "file_extension": ".py",
   "mimetype": "text/x-python",
   "name": "python",
   "nbconvert_exporter": "python",
   "pygments_lexer": "ipython3",
   "version": "3.7.3"
  }
 },
 "nbformat": 4,
 "nbformat_minor": 2
}
